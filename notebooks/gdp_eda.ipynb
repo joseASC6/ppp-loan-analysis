{
 "cells": [
  {
   "cell_type": "code",
   "execution_count": null,
   "id": "36fbd468",
   "metadata": {},
   "outputs": [],
   "source": [
    "%pip install google-cloud-storage\n",
    "%pip install pandas\n",
    "%pip install numpy\n",
    "%pip install fsspec\n",
    "%pip install gcsfs"
   ]
  },
  {
   "cell_type": "code",
   "execution_count": 5,
   "id": "6ee33a9e",
   "metadata": {},
   "outputs": [],
   "source": [
    "from google.cloud import storage\n",
    "import pandas as pd\n",
    "import numpy as np"
   ]
  },
  {
   "cell_type": "code",
   "execution_count": 6,
   "id": "90fed929",
   "metadata": {},
   "outputs": [],
   "source": [
    "bucket_name = 'ppp-loan-analysis'\n",
    "gs_path  = f'gs://{bucket_name}/'\n",
    "raw_folder = 'raw-data/'\n",
    "clean_folder = 'clean-data/'\n",
    "final_folder = 'final-data/'\n",
    "dropped_folder = 'dropped-data/'\n",
    "gdp_folder = 'gdp-data/'"
   ]
  },
  {
   "cell_type": "code",
   "execution_count": 7,
   "id": "ffee7865",
   "metadata": {},
   "outputs": [],
   "source": [
    "storage_client = storage.Client() \n",
    "bucket = storage_client.get_bucket(bucket_name)"
   ]
  },
  {
   "cell_type": "markdown",
   "id": "51188eda",
   "metadata": {},
   "source": [
    "# Raw GDP Data"
   ]
  },
  {
   "cell_type": "code",
   "execution_count": 17,
   "id": "36237e3a",
   "metadata": {},
   "outputs": [],
   "source": [
    "raw_gdp_path = gs_path + raw_folder + gdp_folder + 'CAGDP1__ALL_AREAS_2001_2023.csv'\n",
    "raw_gdp_df = pd.read_csv(raw_gdp_path, header=0)"
   ]
  },
  {
   "cell_type": "code",
   "execution_count": 18,
   "id": "477ef4fb",
   "metadata": {},
   "outputs": [
    {
     "name": "stdout",
     "output_type": "stream",
     "text": [
      "<class 'pandas.core.frame.DataFrame'>\n",
      "RangeIndex: 9538 entries, 0 to 9537\n",
      "Data columns (total 31 columns):\n",
      " #   Column                  Non-Null Count  Dtype  \n",
      "---  ------                  --------------  -----  \n",
      " 0   GeoFIPS                 9538 non-null   object \n",
      " 1   GeoName                 9534 non-null   object \n",
      " 2   Region                  9534 non-null   object \n",
      " 3   TableName               9534 non-null   object \n",
      " 4   LineCode                9534 non-null   float64\n",
      " 5   IndustryClassification  9534 non-null   object \n",
      " 6   Description             9534 non-null   object \n",
      " 7   Unit                    9534 non-null   object \n",
      " 8   2001                    9534 non-null   object \n",
      " 9   2002                    9534 non-null   object \n",
      " 10  2003                    9534 non-null   object \n",
      " 11  2004                    9534 non-null   object \n",
      " 12  2005                    9534 non-null   object \n",
      " 13  2006                    9534 non-null   object \n",
      " 14  2007                    9534 non-null   object \n",
      " 15  2008                    9534 non-null   object \n",
      " 16  2009                    9534 non-null   object \n",
      " 17  2010                    9534 non-null   object \n",
      " 18  2011                    9534 non-null   object \n",
      " 19  2012                    9534 non-null   object \n",
      " 20  2013                    9534 non-null   object \n",
      " 21  2014                    9534 non-null   object \n",
      " 22  2015                    9534 non-null   object \n",
      " 23  2016                    9534 non-null   object \n",
      " 24  2017                    9534 non-null   object \n",
      " 25  2018                    9534 non-null   object \n",
      " 26  2019                    9534 non-null   object \n",
      " 27  2020                    9534 non-null   object \n",
      " 28  2021                    9534 non-null   object \n",
      " 29  2022                    9534 non-null   object \n",
      " 30  2023                    9534 non-null   object \n",
      "dtypes: float64(1), object(30)\n",
      "memory usage: 2.3+ MB\n"
     ]
    }
   ],
   "source": [
    "# Print gdp_df schema\n",
    "raw_gdp_df.info()"
   ]
  },
  {
   "cell_type": "code",
   "execution_count": 19,
   "id": "922d5214",
   "metadata": {},
   "outputs": [
    {
     "name": "stdout",
     "output_type": "stream",
     "text": [
      "Total number of rows: 9538\n"
     ]
    }
   ],
   "source": [
    "# Print the total number of rows in the dataframe\n",
    "total_rows = len(raw_gdp_df)\n",
    "print(f\"Total number of rows: {total_rows}\")"
   ]
  },
  {
   "cell_type": "code",
   "execution_count": 20,
   "id": "284cfd08",
   "metadata": {},
   "outputs": [
    {
     "name": "stdout",
     "output_type": "stream",
     "text": [
      "Number of unique GeoFIPS: 3182\n"
     ]
    }
   ],
   "source": [
    "# Print the number of unique GeoFIPS in the dataframe\n",
    "unique_geofips = raw_gdp_df['GeoFIPS'].nunique()\n",
    "print(f\"Number of unique GeoFIPS: {unique_geofips}\")"
   ]
  },
  {
   "cell_type": "code",
   "execution_count": null,
   "id": "9e3bdc48",
   "metadata": {},
   "outputs": [
    {
     "name": "stdout",
     "output_type": "stream",
     "text": [
      "First 10 GeoFIPS values:\n",
      "0     \"00000\"\n",
      "1     \"00000\"\n",
      "2     \"00000\"\n",
      "3     \"01000\"\n",
      "4     \"01000\"\n",
      "5     \"01000\"\n",
      "6     \"01001\"\n",
      "7     \"01001\"\n",
      "8     \"01001\"\n",
      "9     \"01003\"\n",
      "Name: GeoFIPS, dtype: object\n"
     ]
    }
   ],
   "source": [
    "# Show the first 10 GEOFIPS values\n",
    "print(\"First 10 GeoFIPS values:\")\n",
    "print(raw_gdp_df['GeoFIPS'][:10])"
   ]
  },
  {
   "cell_type": "markdown",
   "id": "1ff87bae",
   "metadata": {},
   "source": [
    "# Clean GDP Data"
   ]
  },
  {
   "cell_type": "code",
   "execution_count": null,
   "id": "f74caf02",
   "metadata": {},
   "outputs": [],
   "source": [
    "clean_gdp_path = gs_path + clean_folder + gdp_folder + '*.csv'\n",
    "clean_gdp_df = spark.read.csv(clean_gdp_path, header=True, inferSchema=True)"
   ]
  },
  {
   "cell_type": "code",
   "execution_count": 13,
   "id": "df226df5",
   "metadata": {},
   "outputs": [
    {
     "name": "stdout",
     "output_type": "stream",
     "text": [
      "root\n",
      " |-- facts_gdp_id: integer (nullable = true)\n",
      " |-- geofips: integer (nullable = true)\n",
      " |-- geo_name: string (nullable = true)\n",
      " |-- region: string (nullable = true)\n",
      " |-- year_id: integer (nullable = true)\n",
      " |-- chain_type_index_gdp: double (nullable = true)\n",
      " |-- current_dollar_gdp: double (nullable = true)\n",
      " |-- real_gdp: double (nullable = true)\n",
      "\n"
     ]
    }
   ],
   "source": [
    "clean_gdp_df.printSchema()"
   ]
  },
  {
   "cell_type": "code",
   "execution_count": 14,
   "id": "63b288b7",
   "metadata": {},
   "outputs": [
    {
     "name": "stdout",
     "output_type": "stream",
     "text": [
      "Total number of rows in cleaned dataframe: 19032\n"
     ]
    }
   ],
   "source": [
    "# Print the number of rows in the cleaned dataframe\n",
    "clean_total_rows = clean_gdp_df.count()\n",
    "print(f\"Total number of rows in cleaned dataframe: {clean_total_rows}\")"
   ]
  },
  {
   "cell_type": "code",
   "execution_count": 30,
   "id": "f700cdfb",
   "metadata": {},
   "outputs": [
    {
     "name": "stdout",
     "output_type": "stream",
     "text": [
      "Number of unique GeoFIPS in cleaned dataframe: 3172\n"
     ]
    }
   ],
   "source": [
    "# Print the number of unique GeoFIPS in the dataframe\n",
    "clean_unique_geo_fips = clean_gdp_df.select(\"geofips\").distinct().count()\n",
    "print(f\"Number of unique GeoFIPS in cleaned dataframe: {clean_unique_geo_fips}\")"
   ]
  },
  {
   "cell_type": "markdown",
   "id": "3402fbc3",
   "metadata": {},
   "source": [
    "# Dropped Data"
   ]
  },
  {
   "cell_type": "code",
   "execution_count": 18,
   "id": "99a34cb1",
   "metadata": {},
   "outputs": [],
   "source": [
    "# Dropped Data\n",
    "dropped_gdp_path = gs_path + dropped_folder + gdp_folder + '*.csv'\n",
    "dropped_gdp_df = spark.read.csv(dropped_gdp_path, header=True, inferSchema=True)"
   ]
  },
  {
   "cell_type": "code",
   "execution_count": 19,
   "id": "d6bef865",
   "metadata": {},
   "outputs": [
    {
     "name": "stdout",
     "output_type": "stream",
     "text": [
      "Total number of rows in dropped dataframe: 18\n"
     ]
    }
   ],
   "source": [
    "# print the number of rows in the dropped dataframe\n",
    "dropped_total_rows = dropped_gdp_df.count()\n",
    "print(f\"Total number of rows in dropped dataframe: {dropped_total_rows}\")"
   ]
  },
  {
   "cell_type": "code",
   "execution_count": 22,
   "id": "4e9337e6",
   "metadata": {},
   "outputs": [
    {
     "name": "stdout",
     "output_type": "stream",
     "text": [
      "Number of unique GeoFIPS in dropped dataframe: 6\n"
     ]
    }
   ],
   "source": [
    "# Print the number of unique GeoFIPS in the dropped_gdp_df\n",
    "dropped_unique_geo_fips = dropped_gdp_df.select(\"GeoFIPS\").distinct().count()\n",
    "print(f\"Number of unique GeoFIPS in dropped dataframe: {dropped_unique_geo_fips}\")"
   ]
  },
  {
   "cell_type": "code",
   "execution_count": 20,
   "id": "88278944",
   "metadata": {},
   "outputs": [
    {
     "name": "stdout",
     "output_type": "stream",
     "text": [
      "+------------+--------------------+------+--------------------+-------+-------+-------+-------+-------+-------+-----------+\n",
      "|     GeoFIPS|             GeoName|Region|         Description|   2017|   2018|   2019|   2020|   2021|   2022|drop_reason|\n",
      "+------------+--------------------+------+--------------------+-------+-------+-------+-------+-------+-------+-----------+\n",
      "|\" \"\"02063\"\"\"|Chugach Census Ar...|     8|Real GDP (thousan...|   (NA)|   (NA)|   (NA)|1268010|1330368|1406228|    2017_na|\n",
      "|\" \"\"02063\"\"\"|Chugach Census Ar...|     8|Chain-type quanti...|   (NA)|   (NA)|   (NA)|   (NM)|   (NM)|   (NM)|    2017_na|\n",
      "|\" \"\"02063\"\"\"|Chugach Census Ar...|     8|Current-dollar GD...|   (NA)|   (NA)|   (NA)|1291960|1426984|1635885|    2017_na|\n",
      "|\" \"\"02066\"\"\"|Copper River Cens...|     8|Real GDP (thousan...|   (NA)|   (NA)|   (NA)| 106221| 124946| 128311|    2017_na|\n",
      "|\" \"\"02066\"\"\"|Copper River Cens...|     8|Chain-type quanti...|   (NA)|   (NA)|   (NA)|   (NM)|   (NM)|   (NM)|    2017_na|\n",
      "|\" \"\"02066\"\"\"|Copper River Cens...|     8|Current-dollar GD...|   (NA)|   (NA)|   (NA)| 108227| 132650| 143508|    2017_na|\n",
      "|\" \"\"02201\"\"\"|Prince of Wales-O...|     8|Real GDP (thousan...|   (NA)|   (NA)|   (NA)|   (NA)|   (NA)|   (NA)|    2017_na|\n",
      "|\" \"\"02201\"\"\"|Prince of Wales-O...|     8|Chain-type quanti...|   (NA)|   (NA)|   (NA)|   (NA)|   (NA)|   (NA)|    2017_na|\n",
      "|\" \"\"02201\"\"\"|Prince of Wales-O...|     8|Current-dollar GD...|   (NA)|   (NA)|   (NA)|   (NA)|   (NA)|   (NA)|    2017_na|\n",
      "|\" \"\"02232\"\"\"|Skagway-Hoonah-An...|     8|Real GDP (thousan...|   (NA)|   (NA)|   (NA)|   (NA)|   (NA)|   (NA)|    2017_na|\n",
      "|\" \"\"02232\"\"\"|Skagway-Hoonah-An...|     8|Chain-type quanti...|   (NA)|   (NA)|   (NA)|   (NA)|   (NA)|   (NA)|    2017_na|\n",
      "|\" \"\"02232\"\"\"|Skagway-Hoonah-An...|     8|Current-dollar GD...|   (NA)|   (NA)|   (NA)|   (NA)|   (NA)|   (NA)|    2017_na|\n",
      "|\" \"\"02280\"\"\"|Wrangell-Petersbu...|     8|Real GDP (thousan...|   (NA)|   (NA)|   (NA)|   (NA)|   (NA)|   (NA)|    2017_na|\n",
      "|\" \"\"02280\"\"\"|Wrangell-Petersbu...|     8|Chain-type quanti...|   (NA)|   (NA)|   (NA)|   (NA)|   (NA)|   (NA)|    2017_na|\n",
      "|\" \"\"02280\"\"\"|Wrangell-Petersbu...|     8|Current-dollar GD...|   (NA)|   (NA)|   (NA)|   (NA)|   (NA)|   (NA)|    2017_na|\n",
      "|\" \"\"02261\"\"\"|Valdez-Cordova Ce...|     8|Real GDP (thousan...|2138740|2122281|2102591|   (NA)|   (NA)|   (NA)|    2020_na|\n",
      "|\" \"\"02261\"\"\"|Valdez-Cordova Ce...|     8|Chain-type quanti...|100.000| 99.230| 98.310|   (NA)|   (NA)|   (NA)|    2020_na|\n",
      "|\" \"\"02261\"\"\"|Valdez-Cordova Ce...|     8|Current-dollar GD...|2138740|2182658|2304803|   (NA)|   (NA)|   (NA)|    2020_na|\n",
      "+------------+--------------------+------+--------------------+-------+-------+-------+-------+-------+-------+-----------+\n",
      "\n"
     ]
    }
   ],
   "source": [
    "# Show all the rows in the dropped dataframe\n",
    "dropped_gdp_df.show()"
   ]
  },
  {
   "cell_type": "code",
   "execution_count": null,
   "id": "1571c134",
   "metadata": {},
   "outputs": [],
   "source": []
  }
 ],
 "metadata": {
  "kernelspec": {
   "display_name": "Python 3",
   "language": "python",
   "name": "python3"
  },
  "language_info": {
   "codemirror_mode": {
    "name": "ipython",
    "version": 3
   },
   "file_extension": ".py",
   "mimetype": "text/x-python",
   "name": "python",
   "nbconvert_exporter": "python",
   "pygments_lexer": "ipython3",
   "version": "3.13.5"
  }
 },
 "nbformat": 4,
 "nbformat_minor": 5
}
