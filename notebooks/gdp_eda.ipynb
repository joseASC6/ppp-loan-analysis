{
 "cells": [
  {
   "cell_type": "code",
   "execution_count": null,
   "id": "36fbd468",
   "metadata": {},
   "outputs": [],
   "source": [
    "%pip install google-cloud-storage\n",
    "%pip install pandas\n",
    "%pip install numpy\n",
    "%pip install fsspec\n",
    "%pip install gcsfs"
   ]
  },
  {
   "cell_type": "code",
   "execution_count": 5,
   "id": "6ee33a9e",
   "metadata": {},
   "outputs": [],
   "source": [
    "from google.cloud import storage\n",
    "import pandas as pd\n",
    "import numpy as np"
   ]
  },
  {
   "cell_type": "code",
   "execution_count": 6,
   "id": "90fed929",
   "metadata": {},
   "outputs": [],
   "source": [
    "bucket_name = 'ppp-loan-analysis'\n",
    "gs_path  = f'gs://{bucket_name}/'\n",
    "raw_folder = 'raw-data/'\n",
    "clean_folder = 'clean-data/'\n",
    "final_folder = 'final-data/'\n",
    "dropped_folder = 'dropped-data/'\n",
    "gdp_folder = 'gdp-data/'"
   ]
  },
  {
   "cell_type": "code",
   "execution_count": 7,
   "id": "ffee7865",
   "metadata": {},
   "outputs": [],
   "source": [
    "storage_client = storage.Client() \n",
    "bucket = storage_client.get_bucket(bucket_name)"
   ]
  },
  {
   "cell_type": "markdown",
   "id": "51188eda",
   "metadata": {},
   "source": [
    "# Raw GDP Data"
   ]
  },
  {
   "cell_type": "code",
   "execution_count": 17,
   "id": "36237e3a",
   "metadata": {},
   "outputs": [],
   "source": [
    "raw_gdp_path = gs_path + raw_folder + gdp_folder + 'CAGDP1__ALL_AREAS_2001_2023.csv'\n",
    "raw_gdp_df = pd.read_csv(raw_gdp_path, header=0)"
   ]
  },
  {
   "cell_type": "code",
   "execution_count": 18,
   "id": "477ef4fb",
   "metadata": {},
   "outputs": [
    {
     "name": "stdout",
     "output_type": "stream",
     "text": [
      "<class 'pandas.core.frame.DataFrame'>\n",
      "RangeIndex: 9538 entries, 0 to 9537\n",
      "Data columns (total 31 columns):\n",
      " #   Column                  Non-Null Count  Dtype  \n",
      "---  ------                  --------------  -----  \n",
      " 0   GeoFIPS                 9538 non-null   object \n",
      " 1   GeoName                 9534 non-null   object \n",
      " 2   Region                  9534 non-null   object \n",
      " 3   TableName               9534 non-null   object \n",
      " 4   LineCode                9534 non-null   float64\n",
      " 5   IndustryClassification  9534 non-null   object \n",
      " 6   Description             9534 non-null   object \n",
      " 7   Unit                    9534 non-null   object \n",
      " 8   2001                    9534 non-null   object \n",
      " 9   2002                    9534 non-null   object \n",
      " 10  2003                    9534 non-null   object \n",
      " 11  2004                    9534 non-null   object \n",
      " 12  2005                    9534 non-null   object \n",
      " 13  2006                    9534 non-null   object \n",
      " 14  2007                    9534 non-null   object \n",
      " 15  2008                    9534 non-null   object \n",
      " 16  2009                    9534 non-null   object \n",
      " 17  2010                    9534 non-null   object \n",
      " 18  2011                    9534 non-null   object \n",
      " 19  2012                    9534 non-null   object \n",
      " 20  2013                    9534 non-null   object \n",
      " 21  2014                    9534 non-null   object \n",
      " 22  2015                    9534 non-null   object \n",
      " 23  2016                    9534 non-null   object \n",
      " 24  2017                    9534 non-null   object \n",
      " 25  2018                    9534 non-null   object \n",
      " 26  2019                    9534 non-null   object \n",
      " 27  2020                    9534 non-null   object \n",
      " 28  2021                    9534 non-null   object \n",
      " 29  2022                    9534 non-null   object \n",
      " 30  2023                    9534 non-null   object \n",
      "dtypes: float64(1), object(30)\n",
      "memory usage: 2.3+ MB\n"
     ]
    }
   ],
   "source": [
    "# Print gdp_df schema\n",
    "raw_gdp_df.info()"
   ]
  },
  {
   "cell_type": "code",
   "execution_count": 19,
   "id": "922d5214",
   "metadata": {},
   "outputs": [
    {
     "name": "stdout",
     "output_type": "stream",
     "text": [
      "Total number of rows: 9538\n"
     ]
    }
   ],
   "source": [
    "# Print the total number of rows in the dataframe\n",
    "total_rows = len(raw_gdp_df)\n",
    "print(f\"Total number of rows: {total_rows}\")"
   ]
  },
  {
   "cell_type": "code",
   "execution_count": 20,
   "id": "284cfd08",
   "metadata": {},
   "outputs": [
    {
     "name": "stdout",
     "output_type": "stream",
     "text": [
      "Number of unique GeoFIPS: 3182\n"
     ]
    }
   ],
   "source": [
    "# Print the number of unique GeoFIPS in the dataframe\n",
    "unique_geofips = raw_gdp_df['GeoFIPS'].nunique()\n",
    "print(f\"Number of unique GeoFIPS: {unique_geofips}\")"
   ]
  },
  {
   "cell_type": "code",
   "execution_count": null,
   "id": "9e3bdc48",
   "metadata": {},
   "outputs": [
    {
     "name": "stdout",
     "output_type": "stream",
     "text": [
      "First 10 GeoFIPS values:\n",
      "0     \"00000\"\n",
      "1     \"00000\"\n",
      "2     \"00000\"\n",
      "3     \"01000\"\n",
      "4     \"01000\"\n",
      "5     \"01000\"\n",
      "6     \"01001\"\n",
      "7     \"01001\"\n",
      "8     \"01001\"\n",
      "9     \"01003\"\n",
      "Name: GeoFIPS, dtype: object\n"
     ]
    }
   ],
   "source": [
    "# Show the first 10 GEOFIPS values\n",
    "print(\"First 10 GeoFIPS values:\")\n",
    "print(raw_gdp_df['GeoFIPS'][:10])"
   ]
  },
  {
   "cell_type": "markdown",
   "id": "1ff87bae",
   "metadata": {},
   "source": [
    "# Clean GDP Data"
   ]
  },
  {
   "cell_type": "code",
   "execution_count": 23,
   "id": "30bd82db",
   "metadata": {},
   "outputs": [],
   "source": [
    "clean_gdp_path = gs_path + clean_folder + gdp_folder + 'cleaned_gdp_data.csv'\n",
    "clean_gdp_df = pd.read_csv(clean_gdp_path, header=0)"
   ]
  },
  {
   "cell_type": "code",
   "execution_count": 24,
   "id": "e9232668",
   "metadata": {},
   "outputs": [
    {
     "name": "stdout",
     "output_type": "stream",
     "text": [
      "<class 'pandas.core.frame.DataFrame'>\n",
      "RangeIndex: 19032 entries, 0 to 19031\n",
      "Data columns (total 8 columns):\n",
      " #   Column                Non-Null Count  Dtype  \n",
      "---  ------                --------------  -----  \n",
      " 0   facts_gdp_id          19032 non-null  int64  \n",
      " 1   geofips               19032 non-null  int64  \n",
      " 2   geo_name              19032 non-null  object \n",
      " 3   region                19032 non-null  object \n",
      " 4   year_id               19032 non-null  int64  \n",
      " 5   chain_type_index_gdp  19032 non-null  float64\n",
      " 6   current_dollar_gdp    19032 non-null  float64\n",
      " 7   real_gdp              19032 non-null  float64\n",
      "dtypes: float64(3), int64(3), object(2)\n",
      "memory usage: 1.2+ MB\n"
     ]
    }
   ],
   "source": [
    "# Print clean_gdp_df schema\n",
    "clean_gdp_df.info()"
   ]
  },
  {
   "cell_type": "code",
   "execution_count": 25,
   "id": "63b288b7",
   "metadata": {},
   "outputs": [
    {
     "name": "stdout",
     "output_type": "stream",
     "text": [
      "Total number of rows in cleaned dataframe: 19032\n"
     ]
    }
   ],
   "source": [
    "# Print the number of rows in the cleaned dataframe\n",
    "clean_total_rows = len(clean_gdp_df)\n",
    "print(f\"Total number of rows in cleaned dataframe: {clean_total_rows}\")"
   ]
  },
  {
   "cell_type": "code",
   "execution_count": 27,
   "id": "f700cdfb",
   "metadata": {},
   "outputs": [
    {
     "name": "stdout",
     "output_type": "stream",
     "text": [
      "Number of unique GeoFIPS in cleaned dataframe: 3172\n"
     ]
    }
   ],
   "source": [
    "# Print the number of unique GeoFIPS in the dataframe\n",
    "clean_unique_geo_fips = clean_gdp_df['geofips'].nunique()\n",
    "print(f\"Number of unique GeoFIPS in cleaned dataframe: {clean_unique_geo_fips}\")"
   ]
  },
  {
   "cell_type": "markdown",
   "id": "3402fbc3",
   "metadata": {},
   "source": [
    "# Dropped Data"
   ]
  },
  {
   "cell_type": "code",
   "execution_count": 29,
   "id": "9b60bbfe",
   "metadata": {},
   "outputs": [],
   "source": [
    "dropped_gdp_path = gs_path + dropped_folder + gdp_folder + 'dropped_raw_gdp_data.csv'\n",
    "dropped_gdp_df = pd.read_csv(dropped_gdp_path, header=0)"
   ]
  },
  {
   "cell_type": "code",
   "execution_count": 30,
   "id": "d6bef865",
   "metadata": {},
   "outputs": [
    {
     "name": "stdout",
     "output_type": "stream",
     "text": [
      "Total number of rows in dropped dataframe: 18\n"
     ]
    }
   ],
   "source": [
    "# print the number of rows in the dropped dataframe\n",
    "dropped_total_rows = len(dropped_gdp_df)\n",
    "print(f\"Total number of rows in dropped dataframe: {dropped_total_rows}\")"
   ]
  },
  {
   "cell_type": "code",
   "execution_count": 31,
   "id": "4e9337e6",
   "metadata": {},
   "outputs": [
    {
     "name": "stdout",
     "output_type": "stream",
     "text": [
      "Number of unique GeoFIPS in dropped dataframe: 6\n"
     ]
    }
   ],
   "source": [
    "# Print the number of unique GeoFIPS in the dropped_gdp_df\n",
    "dropped_unique_geo_fips = dropped_gdp_df['GeoFIPS'].nunique()\n",
    "print(f\"Number of unique GeoFIPS in dropped dataframe: {dropped_unique_geo_fips}\")"
   ]
  },
  {
   "cell_type": "code",
   "execution_count": 33,
   "id": "88278944",
   "metadata": {},
   "outputs": [
    {
     "name": "stdout",
     "output_type": "stream",
     "text": [
      "Dropped dataframe rows:\n"
     ]
    },
    {
     "data": {
      "text/html": [
       "<div>\n",
       "<style scoped>\n",
       "    .dataframe tbody tr th:only-of-type {\n",
       "        vertical-align: middle;\n",
       "    }\n",
       "\n",
       "    .dataframe tbody tr th {\n",
       "        vertical-align: top;\n",
       "    }\n",
       "\n",
       "    .dataframe thead th {\n",
       "        text-align: right;\n",
       "    }\n",
       "</style>\n",
       "<table border=\"1\" class=\"dataframe\">\n",
       "  <thead>\n",
       "    <tr style=\"text-align: right;\">\n",
       "      <th></th>\n",
       "      <th>GeoFIPS</th>\n",
       "      <th>GeoName</th>\n",
       "      <th>Region</th>\n",
       "      <th>Description</th>\n",
       "      <th>2017</th>\n",
       "      <th>2018</th>\n",
       "      <th>2019</th>\n",
       "      <th>2020</th>\n",
       "      <th>2021</th>\n",
       "      <th>2022</th>\n",
       "      <th>drop_reason</th>\n",
       "    </tr>\n",
       "  </thead>\n",
       "  <tbody>\n",
       "    <tr>\n",
       "      <th>0</th>\n",
       "      <td>\"02063\"</td>\n",
       "      <td>Chugach Census Area, AK*</td>\n",
       "      <td>8</td>\n",
       "      <td>Real GDP (thousands of chained 2017 dollars)</td>\n",
       "      <td>(NA)</td>\n",
       "      <td>(NA)</td>\n",
       "      <td>(NA)</td>\n",
       "      <td>1268010</td>\n",
       "      <td>1330368</td>\n",
       "      <td>1406228</td>\n",
       "      <td>2017_na</td>\n",
       "    </tr>\n",
       "    <tr>\n",
       "      <th>1</th>\n",
       "      <td>\"02063\"</td>\n",
       "      <td>Chugach Census Area, AK*</td>\n",
       "      <td>8</td>\n",
       "      <td>Chain-type quantity indexes for real GDP</td>\n",
       "      <td>(NA)</td>\n",
       "      <td>(NA)</td>\n",
       "      <td>(NA)</td>\n",
       "      <td>(NM)</td>\n",
       "      <td>(NM)</td>\n",
       "      <td>(NM)</td>\n",
       "      <td>2017_na</td>\n",
       "    </tr>\n",
       "    <tr>\n",
       "      <th>2</th>\n",
       "      <td>\"02063\"</td>\n",
       "      <td>Chugach Census Area, AK*</td>\n",
       "      <td>8</td>\n",
       "      <td>Current-dollar GDP (thousands of current dolla...</td>\n",
       "      <td>(NA)</td>\n",
       "      <td>(NA)</td>\n",
       "      <td>(NA)</td>\n",
       "      <td>1291960</td>\n",
       "      <td>1426984</td>\n",
       "      <td>1635885</td>\n",
       "      <td>2017_na</td>\n",
       "    </tr>\n",
       "    <tr>\n",
       "      <th>3</th>\n",
       "      <td>\"02066\"</td>\n",
       "      <td>Copper River Census Area, AK*</td>\n",
       "      <td>8</td>\n",
       "      <td>Real GDP (thousands of chained 2017 dollars)</td>\n",
       "      <td>(NA)</td>\n",
       "      <td>(NA)</td>\n",
       "      <td>(NA)</td>\n",
       "      <td>106221</td>\n",
       "      <td>124946</td>\n",
       "      <td>128311</td>\n",
       "      <td>2017_na</td>\n",
       "    </tr>\n",
       "    <tr>\n",
       "      <th>4</th>\n",
       "      <td>\"02066\"</td>\n",
       "      <td>Copper River Census Area, AK*</td>\n",
       "      <td>8</td>\n",
       "      <td>Chain-type quantity indexes for real GDP</td>\n",
       "      <td>(NA)</td>\n",
       "      <td>(NA)</td>\n",
       "      <td>(NA)</td>\n",
       "      <td>(NM)</td>\n",
       "      <td>(NM)</td>\n",
       "      <td>(NM)</td>\n",
       "      <td>2017_na</td>\n",
       "    </tr>\n",
       "    <tr>\n",
       "      <th>5</th>\n",
       "      <td>\"02066\"</td>\n",
       "      <td>Copper River Census Area, AK*</td>\n",
       "      <td>8</td>\n",
       "      <td>Current-dollar GDP (thousands of current dolla...</td>\n",
       "      <td>(NA)</td>\n",
       "      <td>(NA)</td>\n",
       "      <td>(NA)</td>\n",
       "      <td>108227</td>\n",
       "      <td>132650</td>\n",
       "      <td>143508</td>\n",
       "      <td>2017_na</td>\n",
       "    </tr>\n",
       "    <tr>\n",
       "      <th>6</th>\n",
       "      <td>\"02201\"</td>\n",
       "      <td>Prince of Wales-Outer Ketchikan Census Area, AK*</td>\n",
       "      <td>8</td>\n",
       "      <td>Real GDP (thousands of chained 2017 dollars)</td>\n",
       "      <td>(NA)</td>\n",
       "      <td>(NA)</td>\n",
       "      <td>(NA)</td>\n",
       "      <td>(NA)</td>\n",
       "      <td>(NA)</td>\n",
       "      <td>(NA)</td>\n",
       "      <td>2017_na</td>\n",
       "    </tr>\n",
       "    <tr>\n",
       "      <th>7</th>\n",
       "      <td>\"02201\"</td>\n",
       "      <td>Prince of Wales-Outer Ketchikan Census Area, AK*</td>\n",
       "      <td>8</td>\n",
       "      <td>Chain-type quantity indexes for real GDP</td>\n",
       "      <td>(NA)</td>\n",
       "      <td>(NA)</td>\n",
       "      <td>(NA)</td>\n",
       "      <td>(NA)</td>\n",
       "      <td>(NA)</td>\n",
       "      <td>(NA)</td>\n",
       "      <td>2017_na</td>\n",
       "    </tr>\n",
       "    <tr>\n",
       "      <th>8</th>\n",
       "      <td>\"02201\"</td>\n",
       "      <td>Prince of Wales-Outer Ketchikan Census Area, AK*</td>\n",
       "      <td>8</td>\n",
       "      <td>Current-dollar GDP (thousands of current dolla...</td>\n",
       "      <td>(NA)</td>\n",
       "      <td>(NA)</td>\n",
       "      <td>(NA)</td>\n",
       "      <td>(NA)</td>\n",
       "      <td>(NA)</td>\n",
       "      <td>(NA)</td>\n",
       "      <td>2017_na</td>\n",
       "    </tr>\n",
       "    <tr>\n",
       "      <th>9</th>\n",
       "      <td>\"02232\"</td>\n",
       "      <td>Skagway-Hoonah-Angoon Census Area, AK*</td>\n",
       "      <td>8</td>\n",
       "      <td>Real GDP (thousands of chained 2017 dollars)</td>\n",
       "      <td>(NA)</td>\n",
       "      <td>(NA)</td>\n",
       "      <td>(NA)</td>\n",
       "      <td>(NA)</td>\n",
       "      <td>(NA)</td>\n",
       "      <td>(NA)</td>\n",
       "      <td>2017_na</td>\n",
       "    </tr>\n",
       "    <tr>\n",
       "      <th>10</th>\n",
       "      <td>\"02232\"</td>\n",
       "      <td>Skagway-Hoonah-Angoon Census Area, AK*</td>\n",
       "      <td>8</td>\n",
       "      <td>Chain-type quantity indexes for real GDP</td>\n",
       "      <td>(NA)</td>\n",
       "      <td>(NA)</td>\n",
       "      <td>(NA)</td>\n",
       "      <td>(NA)</td>\n",
       "      <td>(NA)</td>\n",
       "      <td>(NA)</td>\n",
       "      <td>2017_na</td>\n",
       "    </tr>\n",
       "    <tr>\n",
       "      <th>11</th>\n",
       "      <td>\"02232\"</td>\n",
       "      <td>Skagway-Hoonah-Angoon Census Area, AK*</td>\n",
       "      <td>8</td>\n",
       "      <td>Current-dollar GDP (thousands of current dolla...</td>\n",
       "      <td>(NA)</td>\n",
       "      <td>(NA)</td>\n",
       "      <td>(NA)</td>\n",
       "      <td>(NA)</td>\n",
       "      <td>(NA)</td>\n",
       "      <td>(NA)</td>\n",
       "      <td>2017_na</td>\n",
       "    </tr>\n",
       "    <tr>\n",
       "      <th>12</th>\n",
       "      <td>\"02280\"</td>\n",
       "      <td>Wrangell-Petersburg Census Area, AK*</td>\n",
       "      <td>8</td>\n",
       "      <td>Real GDP (thousands of chained 2017 dollars)</td>\n",
       "      <td>(NA)</td>\n",
       "      <td>(NA)</td>\n",
       "      <td>(NA)</td>\n",
       "      <td>(NA)</td>\n",
       "      <td>(NA)</td>\n",
       "      <td>(NA)</td>\n",
       "      <td>2017_na</td>\n",
       "    </tr>\n",
       "    <tr>\n",
       "      <th>13</th>\n",
       "      <td>\"02280\"</td>\n",
       "      <td>Wrangell-Petersburg Census Area, AK*</td>\n",
       "      <td>8</td>\n",
       "      <td>Chain-type quantity indexes for real GDP</td>\n",
       "      <td>(NA)</td>\n",
       "      <td>(NA)</td>\n",
       "      <td>(NA)</td>\n",
       "      <td>(NA)</td>\n",
       "      <td>(NA)</td>\n",
       "      <td>(NA)</td>\n",
       "      <td>2017_na</td>\n",
       "    </tr>\n",
       "    <tr>\n",
       "      <th>14</th>\n",
       "      <td>\"02280\"</td>\n",
       "      <td>Wrangell-Petersburg Census Area, AK*</td>\n",
       "      <td>8</td>\n",
       "      <td>Current-dollar GDP (thousands of current dolla...</td>\n",
       "      <td>(NA)</td>\n",
       "      <td>(NA)</td>\n",
       "      <td>(NA)</td>\n",
       "      <td>(NA)</td>\n",
       "      <td>(NA)</td>\n",
       "      <td>(NA)</td>\n",
       "      <td>2017_na</td>\n",
       "    </tr>\n",
       "    <tr>\n",
       "      <th>15</th>\n",
       "      <td>\"02261\"</td>\n",
       "      <td>Valdez-Cordova Census Area, AK*</td>\n",
       "      <td>8</td>\n",
       "      <td>Real GDP (thousands of chained 2017 dollars)</td>\n",
       "      <td>2138740</td>\n",
       "      <td>2122281</td>\n",
       "      <td>2102591</td>\n",
       "      <td>(NA)</td>\n",
       "      <td>(NA)</td>\n",
       "      <td>(NA)</td>\n",
       "      <td>2020_na</td>\n",
       "    </tr>\n",
       "    <tr>\n",
       "      <th>16</th>\n",
       "      <td>\"02261\"</td>\n",
       "      <td>Valdez-Cordova Census Area, AK*</td>\n",
       "      <td>8</td>\n",
       "      <td>Chain-type quantity indexes for real GDP</td>\n",
       "      <td>100.000</td>\n",
       "      <td>99.230</td>\n",
       "      <td>98.310</td>\n",
       "      <td>(NA)</td>\n",
       "      <td>(NA)</td>\n",
       "      <td>(NA)</td>\n",
       "      <td>2020_na</td>\n",
       "    </tr>\n",
       "    <tr>\n",
       "      <th>17</th>\n",
       "      <td>\"02261\"</td>\n",
       "      <td>Valdez-Cordova Census Area, AK*</td>\n",
       "      <td>8</td>\n",
       "      <td>Current-dollar GDP (thousands of current dolla...</td>\n",
       "      <td>2138740</td>\n",
       "      <td>2182658</td>\n",
       "      <td>2304803</td>\n",
       "      <td>(NA)</td>\n",
       "      <td>(NA)</td>\n",
       "      <td>(NA)</td>\n",
       "      <td>2020_na</td>\n",
       "    </tr>\n",
       "  </tbody>\n",
       "</table>\n",
       "</div>"
      ],
      "text/plain": [
       "     GeoFIPS                                           GeoName  Region  \\\n",
       "0    \"02063\"                          Chugach Census Area, AK*       8   \n",
       "1    \"02063\"                          Chugach Census Area, AK*       8   \n",
       "2    \"02063\"                          Chugach Census Area, AK*       8   \n",
       "3    \"02066\"                     Copper River Census Area, AK*       8   \n",
       "4    \"02066\"                     Copper River Census Area, AK*       8   \n",
       "5    \"02066\"                     Copper River Census Area, AK*       8   \n",
       "6    \"02201\"  Prince of Wales-Outer Ketchikan Census Area, AK*       8   \n",
       "7    \"02201\"  Prince of Wales-Outer Ketchikan Census Area, AK*       8   \n",
       "8    \"02201\"  Prince of Wales-Outer Ketchikan Census Area, AK*       8   \n",
       "9    \"02232\"            Skagway-Hoonah-Angoon Census Area, AK*       8   \n",
       "10   \"02232\"            Skagway-Hoonah-Angoon Census Area, AK*       8   \n",
       "11   \"02232\"            Skagway-Hoonah-Angoon Census Area, AK*       8   \n",
       "12   \"02280\"              Wrangell-Petersburg Census Area, AK*       8   \n",
       "13   \"02280\"              Wrangell-Petersburg Census Area, AK*       8   \n",
       "14   \"02280\"              Wrangell-Petersburg Census Area, AK*       8   \n",
       "15   \"02261\"                   Valdez-Cordova Census Area, AK*       8   \n",
       "16   \"02261\"                   Valdez-Cordova Census Area, AK*       8   \n",
       "17   \"02261\"                   Valdez-Cordova Census Area, AK*       8   \n",
       "\n",
       "                                          Description     2017     2018  \\\n",
       "0       Real GDP (thousands of chained 2017 dollars)      (NA)     (NA)   \n",
       "1           Chain-type quantity indexes for real GDP      (NA)     (NA)   \n",
       "2   Current-dollar GDP (thousands of current dolla...     (NA)     (NA)   \n",
       "3       Real GDP (thousands of chained 2017 dollars)      (NA)     (NA)   \n",
       "4           Chain-type quantity indexes for real GDP      (NA)     (NA)   \n",
       "5   Current-dollar GDP (thousands of current dolla...     (NA)     (NA)   \n",
       "6       Real GDP (thousands of chained 2017 dollars)      (NA)     (NA)   \n",
       "7           Chain-type quantity indexes for real GDP      (NA)     (NA)   \n",
       "8   Current-dollar GDP (thousands of current dolla...     (NA)     (NA)   \n",
       "9       Real GDP (thousands of chained 2017 dollars)      (NA)     (NA)   \n",
       "10          Chain-type quantity indexes for real GDP      (NA)     (NA)   \n",
       "11  Current-dollar GDP (thousands of current dolla...     (NA)     (NA)   \n",
       "12      Real GDP (thousands of chained 2017 dollars)      (NA)     (NA)   \n",
       "13          Chain-type quantity indexes for real GDP      (NA)     (NA)   \n",
       "14  Current-dollar GDP (thousands of current dolla...     (NA)     (NA)   \n",
       "15      Real GDP (thousands of chained 2017 dollars)   2138740  2122281   \n",
       "16          Chain-type quantity indexes for real GDP   100.000   99.230   \n",
       "17  Current-dollar GDP (thousands of current dolla...  2138740  2182658   \n",
       "\n",
       "       2019     2020     2021     2022 drop_reason  \n",
       "0      (NA)  1268010  1330368  1406228     2017_na  \n",
       "1      (NA)     (NM)     (NM)     (NM)     2017_na  \n",
       "2      (NA)  1291960  1426984  1635885     2017_na  \n",
       "3      (NA)   106221   124946   128311     2017_na  \n",
       "4      (NA)     (NM)     (NM)     (NM)     2017_na  \n",
       "5      (NA)   108227   132650   143508     2017_na  \n",
       "6      (NA)     (NA)     (NA)     (NA)     2017_na  \n",
       "7      (NA)     (NA)     (NA)     (NA)     2017_na  \n",
       "8      (NA)     (NA)     (NA)     (NA)     2017_na  \n",
       "9      (NA)     (NA)     (NA)     (NA)     2017_na  \n",
       "10     (NA)     (NA)     (NA)     (NA)     2017_na  \n",
       "11     (NA)     (NA)     (NA)     (NA)     2017_na  \n",
       "12     (NA)     (NA)     (NA)     (NA)     2017_na  \n",
       "13     (NA)     (NA)     (NA)     (NA)     2017_na  \n",
       "14     (NA)     (NA)     (NA)     (NA)     2017_na  \n",
       "15  2102591     (NA)     (NA)     (NA)     2020_na  \n",
       "16   98.310     (NA)     (NA)     (NA)     2020_na  \n",
       "17  2304803     (NA)     (NA)     (NA)     2020_na  "
      ]
     },
     "execution_count": 33,
     "metadata": {},
     "output_type": "execute_result"
    }
   ],
   "source": [
    "# Show all the rows in the dropped dataframe\n",
    "print(\"Dropped dataframe rows:\")\n",
    "dropped_gdp_df.head(18)"
   ]
  },
  {
   "cell_type": "code",
   "execution_count": null,
   "id": "1571c134",
   "metadata": {},
   "outputs": [],
   "source": []
  }
 ],
 "metadata": {
  "kernelspec": {
   "display_name": "Python 3",
   "language": "python",
   "name": "python3"
  },
  "language_info": {
   "codemirror_mode": {
    "name": "ipython",
    "version": 3
   },
   "file_extension": ".py",
   "mimetype": "text/x-python",
   "name": "python",
   "nbconvert_exporter": "python",
   "pygments_lexer": "ipython3",
   "version": "3.13.5"
  }
 },
 "nbformat": 4,
 "nbformat_minor": 5
}
