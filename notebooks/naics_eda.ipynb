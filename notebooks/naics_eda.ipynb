{
 "cells": [
  {
   "cell_type": "code",
   "execution_count": null,
   "id": "dd9bb7e9",
   "metadata": {},
   "outputs": [],
   "source": [
    "from google.cloud import storage\n",
    "import pandas as pd"
   ]
  },
  {
   "cell_type": "code",
   "execution_count": null,
   "id": "72b61fa0",
   "metadata": {},
   "outputs": [],
   "source": [
    "bucket_name = 'ppp-loan-analysis'\n",
    "gs_path  = f'gs://{bucket_name}/'\n",
    "raw_folder = 'raw-data/'\n",
    "clean_folder = 'clean-data/'\n",
    "final_folder = 'final-data/'\n",
    "dropped_folder = 'dropped-data/'\n",
    "gdp_folder = 'naics-data/'"
   ]
  },
  {
   "cell_type": "code",
   "execution_count": null,
   "id": "d4635460",
   "metadata": {},
   "outputs": [],
   "source": [
    "storage_client = storage.Client() \n",
    "bucket = storage_client.get_bucket(bucket_name)"
   ]
  },
  {
   "cell_type": "markdown",
   "id": "42c739f0",
   "metadata": {},
   "source": [
    "# Raw NAICS Data"
   ]
  },
  {
   "cell_type": "markdown",
   "id": "7e087cf1",
   "metadata": {},
   "source": [
    "# Clean NAICS Data"
   ]
  },
  {
   "cell_type": "markdown",
   "id": "86fb53aa",
   "metadata": {},
   "source": [
    "# Dropped NAICS Data"
   ]
  }
 ],
 "metadata": {
  "language_info": {
   "name": "python"
  }
 },
 "nbformat": 4,
 "nbformat_minor": 5
}
