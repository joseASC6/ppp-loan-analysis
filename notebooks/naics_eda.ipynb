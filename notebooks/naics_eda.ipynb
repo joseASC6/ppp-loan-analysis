{
 "cells": [
  {
   "cell_type": "code",
   "execution_count": null,
   "id": "de1f97f2",
   "metadata": {},
   "outputs": [],
   "source": [
    "%pip install openpyxl"
   ]
  },
  {
   "cell_type": "code",
   "execution_count": 2,
   "id": "dd9bb7e9",
   "metadata": {},
   "outputs": [],
   "source": [
    "from google.cloud import storage\n",
    "import pandas as pd\n",
    "import numpy as np"
   ]
  },
  {
   "cell_type": "code",
   "execution_count": 3,
   "id": "72b61fa0",
   "metadata": {},
   "outputs": [],
   "source": [
    "bucket_name = 'ppp-loan-analysis'\n",
    "gs_path  = f'gs://{bucket_name}/'\n",
    "raw_folder = 'raw-data/'\n",
    "clean_folder = 'clean-data/'\n",
    "final_folder = 'final-data/'\n",
    "dropped_folder = 'dropped-data/'\n",
    "naics_folder = 'naics-data/'"
   ]
  },
  {
   "cell_type": "code",
   "execution_count": 4,
   "id": "d4635460",
   "metadata": {},
   "outputs": [],
   "source": [
    "storage_client = storage.Client() \n",
    "bucket = storage_client.get_bucket(bucket_name)"
   ]
  },
  {
   "cell_type": "markdown",
   "id": "42c739f0",
   "metadata": {},
   "source": [
    "# Raw NAICS Data"
   ]
  },
  {
   "cell_type": "code",
   "execution_count": 7,
   "id": "f241f244",
   "metadata": {},
   "outputs": [],
   "source": [
    "raw_naics_path = gs_path + raw_folder + naics_folder + '2022_NAICS_Descriptions.xlsx'\n",
    "raw_naics_df = pd.read_excel(raw_naics_path, header=0)"
   ]
  },
  {
   "cell_type": "code",
   "execution_count": 8,
   "id": "0ac52ea2",
   "metadata": {},
   "outputs": [
    {
     "name": "stdout",
     "output_type": "stream",
     "text": [
      "<class 'pandas.core.frame.DataFrame'>\n",
      "RangeIndex: 2125 entries, 0 to 2124\n",
      "Data columns (total 3 columns):\n",
      " #   Column       Non-Null Count  Dtype \n",
      "---  ------       --------------  ----- \n",
      " 0   Code         2125 non-null   object\n",
      " 1   Title        2125 non-null   object\n",
      " 2   Description  1971 non-null   object\n",
      "dtypes: object(3)\n",
      "memory usage: 49.9+ KB\n"
     ]
    }
   ],
   "source": [
    "raw_naics_df.info()"
   ]
  },
  {
   "cell_type": "code",
   "execution_count": 9,
   "id": "7fdbc34e",
   "metadata": {},
   "outputs": [
    {
     "data": {
      "text/plain": [
       "Code             0\n",
       "Title            0\n",
       "Description    154\n",
       "dtype: int64"
      ]
     },
     "execution_count": 9,
     "metadata": {},
     "output_type": "execute_result"
    }
   ],
   "source": [
    "# Number of empty values in each column\n",
    "raw_naics_df.isnull().sum()"
   ]
  },
  {
   "cell_type": "code",
   "execution_count": 10,
   "id": "1297282b",
   "metadata": {},
   "outputs": [
    {
     "data": {
      "text/plain": [
       "Code           2125\n",
       "Title          1758\n",
       "Description    1971\n",
       "dtype: int64"
      ]
     },
     "execution_count": 10,
     "metadata": {},
     "output_type": "execute_result"
    }
   ],
   "source": [
    "# Number of unique values in each column\n",
    "raw_naics_df.nunique()"
   ]
  },
  {
   "cell_type": "code",
   "execution_count": 11,
   "id": "d3db7ee3",
   "metadata": {},
   "outputs": [
    {
     "data": {
      "text/html": [
       "<div>\n",
       "<style scoped>\n",
       "    .dataframe tbody tr th:only-of-type {\n",
       "        vertical-align: middle;\n",
       "    }\n",
       "\n",
       "    .dataframe tbody tr th {\n",
       "        vertical-align: top;\n",
       "    }\n",
       "\n",
       "    .dataframe thead th {\n",
       "        text-align: right;\n",
       "    }\n",
       "</style>\n",
       "<table border=\"1\" class=\"dataframe\">\n",
       "  <thead>\n",
       "    <tr style=\"text-align: right;\">\n",
       "      <th></th>\n",
       "      <th>Code</th>\n",
       "      <th>Title</th>\n",
       "      <th>Description</th>\n",
       "    </tr>\n",
       "  </thead>\n",
       "  <tbody>\n",
       "    <tr>\n",
       "      <th>0</th>\n",
       "      <td>11</td>\n",
       "      <td>Agriculture, Forestry, Fishing and HuntingT</td>\n",
       "      <td>The Sector as a Whole\\n\\nThe Agriculture, Fore...</td>\n",
       "    </tr>\n",
       "    <tr>\n",
       "      <th>1</th>\n",
       "      <td>111</td>\n",
       "      <td>Crop ProductionT</td>\n",
       "      <td>Industries in the Crop Production subsector gr...</td>\n",
       "    </tr>\n",
       "    <tr>\n",
       "      <th>2</th>\n",
       "      <td>1111</td>\n",
       "      <td>Oilseed and Grain FarmingT</td>\n",
       "      <td>This industry group comprises establishments p...</td>\n",
       "    </tr>\n",
       "    <tr>\n",
       "      <th>3</th>\n",
       "      <td>11111</td>\n",
       "      <td>Soybean FarmingT</td>\n",
       "      <td>See industry description for 111110.</td>\n",
       "    </tr>\n",
       "    <tr>\n",
       "      <th>4</th>\n",
       "      <td>111110</td>\n",
       "      <td>Soybean Farming</td>\n",
       "      <td>This industry comprises establishments primari...</td>\n",
       "    </tr>\n",
       "  </tbody>\n",
       "</table>\n",
       "</div>"
      ],
      "text/plain": [
       "     Code                                        Title  \\\n",
       "0      11  Agriculture, Forestry, Fishing and HuntingT   \n",
       "1     111                             Crop ProductionT   \n",
       "2    1111                   Oilseed and Grain FarmingT   \n",
       "3   11111                             Soybean FarmingT   \n",
       "4  111110                              Soybean Farming   \n",
       "\n",
       "                                         Description  \n",
       "0  The Sector as a Whole\\n\\nThe Agriculture, Fore...  \n",
       "1  Industries in the Crop Production subsector gr...  \n",
       "2  This industry group comprises establishments p...  \n",
       "3               See industry description for 111110.  \n",
       "4  This industry comprises establishments primari...  "
      ]
     },
     "execution_count": 11,
     "metadata": {},
     "output_type": "execute_result"
    }
   ],
   "source": [
    "raw_naics_df.head()"
   ]
  },
  {
   "cell_type": "markdown",
   "id": "7e087cf1",
   "metadata": {},
   "source": [
    "# Clean NAICS Data"
   ]
  },
  {
   "cell_type": "code",
   "execution_count": 16,
   "id": "e124c62b",
   "metadata": {},
   "outputs": [],
   "source": [
    "clean_naics_path = gs_path + clean_folder + naics_folder + 'cleaned_naics_data.csv'\n",
    "clean_naics_df = pd.read_csv(clean_naics_path)"
   ]
  },
  {
   "cell_type": "code",
   "execution_count": 17,
   "id": "0ad08270",
   "metadata": {},
   "outputs": [
    {
     "name": "stdout",
     "output_type": "stream",
     "text": [
      "<class 'pandas.core.frame.DataFrame'>\n",
      "RangeIndex: 2122 entries, 0 to 2121\n",
      "Data columns (total 3 columns):\n",
      " #   Column       Non-Null Count  Dtype \n",
      "---  ------       --------------  ----- \n",
      " 0   naics_code   2122 non-null   int64 \n",
      " 1   naics_title  2122 non-null   object\n",
      " 2   description  1968 non-null   object\n",
      "dtypes: int64(1), object(2)\n",
      "memory usage: 49.9+ KB\n"
     ]
    }
   ],
   "source": [
    "clean_naics_df.info()"
   ]
  },
  {
   "cell_type": "code",
   "execution_count": 20,
   "id": "947e7479",
   "metadata": {},
   "outputs": [
    {
     "data": {
      "text/plain": [
       "naics_code       0\n",
       "naics_title      0\n",
       "description    154\n",
       "dtype: int64"
      ]
     },
     "execution_count": 20,
     "metadata": {},
     "output_type": "execute_result"
    }
   ],
   "source": [
    "# Number of empty values in each column\n",
    "clean_naics_df.isnull().sum()"
   ]
  },
  {
   "cell_type": "code",
   "execution_count": 21,
   "id": "de9afa1f",
   "metadata": {},
   "outputs": [
    {
     "data": {
      "text/plain": [
       "naics_code     2122\n",
       "naics_title    1429\n",
       "description    1968\n",
       "dtype: int64"
      ]
     },
     "execution_count": 21,
     "metadata": {},
     "output_type": "execute_result"
    }
   ],
   "source": [
    "# Number of unique values in each column\n",
    "clean_naics_df.nunique()"
   ]
  },
  {
   "cell_type": "markdown",
   "id": "86fb53aa",
   "metadata": {},
   "source": [
    "# Dropped NAICS Data"
   ]
  },
  {
   "cell_type": "code",
   "execution_count": 12,
   "id": "1da7d3a4",
   "metadata": {},
   "outputs": [],
   "source": [
    "dropped_naics_path = gs_path + dropped_folder + naics_folder + 'dropped_raw_naics_data.csv'\n",
    "dropped_naics_df = pd.read_csv(dropped_naics_path)"
   ]
  },
  {
   "cell_type": "code",
   "execution_count": 14,
   "id": "0bbcb087",
   "metadata": {},
   "outputs": [
    {
     "name": "stdout",
     "output_type": "stream",
     "text": [
      "<class 'pandas.core.frame.DataFrame'>\n",
      "RangeIndex: 3 entries, 0 to 2\n",
      "Data columns (total 4 columns):\n",
      " #   Column       Non-Null Count  Dtype \n",
      "---  ------       --------------  ----- \n",
      " 0   naics_code   3 non-null      object\n",
      " 1   naics_title  3 non-null      object\n",
      " 2   description  3 non-null      object\n",
      " 3   drop_reason  3 non-null      object\n",
      "dtypes: object(4)\n",
      "memory usage: 228.0+ bytes\n"
     ]
    }
   ],
   "source": [
    "dropped_naics_df.info()"
   ]
  },
  {
   "cell_type": "code",
   "execution_count": 13,
   "id": "ff25b865",
   "metadata": {},
   "outputs": [
    {
     "data": {
      "text/html": [
       "<div>\n",
       "<style scoped>\n",
       "    .dataframe tbody tr th:only-of-type {\n",
       "        vertical-align: middle;\n",
       "    }\n",
       "\n",
       "    .dataframe tbody tr th {\n",
       "        vertical-align: top;\n",
       "    }\n",
       "\n",
       "    .dataframe thead th {\n",
       "        text-align: right;\n",
       "    }\n",
       "</style>\n",
       "<table border=\"1\" class=\"dataframe\">\n",
       "  <thead>\n",
       "    <tr style=\"text-align: right;\">\n",
       "      <th></th>\n",
       "      <th>naics_code</th>\n",
       "      <th>naics_title</th>\n",
       "      <th>description</th>\n",
       "      <th>drop_reason</th>\n",
       "    </tr>\n",
       "  </thead>\n",
       "  <tbody>\n",
       "    <tr>\n",
       "      <th>0</th>\n",
       "      <td>31-33</td>\n",
       "      <td>ManufacturingT</td>\n",
       "      <td>The Sector as a Whole\\n\\nThe Manufacturing sec...</td>\n",
       "      <td>naics_code_not_numeric</td>\n",
       "    </tr>\n",
       "    <tr>\n",
       "      <th>1</th>\n",
       "      <td>44-45</td>\n",
       "      <td>Retail TradeT</td>\n",
       "      <td>The Sector as a Whole\\n\\nThe Retail Trade sect...</td>\n",
       "      <td>naics_code_not_numeric</td>\n",
       "    </tr>\n",
       "    <tr>\n",
       "      <th>2</th>\n",
       "      <td>48-49</td>\n",
       "      <td>Transportation and WarehousingT</td>\n",
       "      <td>The Sector as a Whole\\n\\nThe Transportation an...</td>\n",
       "      <td>naics_code_not_numeric</td>\n",
       "    </tr>\n",
       "  </tbody>\n",
       "</table>\n",
       "</div>"
      ],
      "text/plain": [
       "  naics_code                      naics_title  \\\n",
       "0      31-33                   ManufacturingT   \n",
       "1      44-45                    Retail TradeT   \n",
       "2      48-49  Transportation and WarehousingT   \n",
       "\n",
       "                                         description             drop_reason  \n",
       "0  The Sector as a Whole\\n\\nThe Manufacturing sec...  naics_code_not_numeric  \n",
       "1  The Sector as a Whole\\n\\nThe Retail Trade sect...  naics_code_not_numeric  \n",
       "2  The Sector as a Whole\\n\\nThe Transportation an...  naics_code_not_numeric  "
      ]
     },
     "execution_count": 13,
     "metadata": {},
     "output_type": "execute_result"
    }
   ],
   "source": [
    "dropped_naics_df.head()"
   ]
  }
 ],
 "metadata": {
  "kernelspec": {
   "display_name": "Python 3",
   "language": "python",
   "name": "python3"
  },
  "language_info": {
   "codemirror_mode": {
    "name": "ipython",
    "version": 3
   },
   "file_extension": ".py",
   "mimetype": "text/x-python",
   "name": "python",
   "nbconvert_exporter": "python",
   "pygments_lexer": "ipython3",
   "version": "3.13.5"
  }
 },
 "nbformat": 4,
 "nbformat_minor": 5
}
