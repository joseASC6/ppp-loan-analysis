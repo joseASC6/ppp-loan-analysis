{
 "cells": [
  {
   "cell_type": "code",
   "execution_count": null,
   "id": "5a9e5d6c",
   "metadata": {},
   "outputs": [],
   "source": [
    "spark"
   ]
  },
  {
   "cell_type": "code",
   "execution_count": null,
   "id": "ace2ed25",
   "metadata": {},
   "outputs": [],
   "source": [
    "from google.cloud import storage\n",
    "\n",
    "import pyspark\n",
    "from pyspark.sql import SparkSession"
   ]
  },
  {
   "cell_type": "code",
   "execution_count": null,
   "id": "c2c57129",
   "metadata": {},
   "outputs": [],
   "source": [
    "bucket_name = 'ppp-loan-analysis'\n",
    "gs_path  = f'gs://{bucket_name}/'\n",
    "raw_folder = 'raw-data/'\n",
    "clean_folder = 'clean-data/'\n",
    "final_folder = 'final-data/'\n",
    "dropped_folder = 'dropped-data/'\n",
    "gdp_folder = 'ppp-data/'"
   ]
  }
 ],
 "metadata": {
  "language_info": {
   "name": "python"
  }
 },
 "nbformat": 4,
 "nbformat_minor": 5
}
