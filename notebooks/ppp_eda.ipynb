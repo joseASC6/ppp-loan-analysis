{
 "cells": [
  {
   "cell_type": "code",
   "execution_count": 1,
   "id": "5a9e5d6c",
   "metadata": {
    "tags": []
   },
   "outputs": [
    {
     "data": {
      "text/html": [
       "\n",
       "            <div>\n",
       "                <p><b>SparkSession - hive</b></p>\n",
       "                \n",
       "        <div>\n",
       "            <p><b>SparkContext</b></p>\n",
       "\n",
       "            <p><a href=\"http://cluster-1742-m.us-central1-f.c.ppp-loan-analysis.internal:39663\">Spark UI</a></p>\n",
       "\n",
       "            <dl>\n",
       "              <dt>Version</dt>\n",
       "                <dd><code>v3.5.3</code></dd>\n",
       "              <dt>Master</dt>\n",
       "                <dd><code>yarn</code></dd>\n",
       "              <dt>AppName</dt>\n",
       "                <dd><code>PySparkShell</code></dd>\n",
       "            </dl>\n",
       "        </div>\n",
       "        \n",
       "            </div>\n",
       "        "
      ],
      "text/plain": [
       "<pyspark.sql.session.SparkSession at 0x7f958566de90>"
      ]
     },
     "execution_count": 1,
     "metadata": {},
     "output_type": "execute_result"
    }
   ],
   "source": [
    "spark"
   ]
  },
  {
   "cell_type": "code",
   "execution_count": 2,
   "id": "ace2ed25",
   "metadata": {
    "tags": []
   },
   "outputs": [],
   "source": [
    "from google.cloud import storage\n",
    "\n",
    "import pyspark\n",
    "from pyspark.sql import SparkSession\n",
    "from pyspark.sql.functions import countDistinct, column, isnan, when, count, col"
   ]
  },
  {
   "cell_type": "code",
   "execution_count": 3,
   "id": "c2c57129",
   "metadata": {
    "tags": []
   },
   "outputs": [],
   "source": [
    "bucket_name = 'ppp-loan-analysis'\n",
    "gs_path  = f'gs://{bucket_name}/'\n",
    "raw_folder = 'raw-data/'\n",
    "clean_folder = 'clean-data/'\n",
    "final_folder = 'final-data/'\n",
    "dropped_folder = 'dropped-data/'\n",
    "ppp_folder = 'ppp-data/'"
   ]
  },
  {
   "cell_type": "code",
   "execution_count": 4,
   "id": "87578329",
   "metadata": {
    "tags": []
   },
   "outputs": [
    {
     "name": "stderr",
     "output_type": "stream",
     "text": [
      "25/10/08 20:58:36 WARN SparkSession: Using an existing Spark session; only runtime SQL configurations will take effect.\n"
     ]
    }
   ],
   "source": [
    "spark = SparkSession.builder.appName('ppp_eda').getOrCreate()"
   ]
  },
  {
   "cell_type": "code",
   "execution_count": 5,
   "id": "2a96b4f6",
   "metadata": {
    "tags": []
   },
   "outputs": [],
   "source": [
    "storage_client = storage.Client() \n",
    "bucket = storage_client.get_bucket(bucket_name)"
   ]
  },
  {
   "cell_type": "markdown",
   "id": "19b8dc1f",
   "metadata": {},
   "source": [
    "# Raw PPP Data"
   ]
  },
  {
   "cell_type": "code",
   "execution_count": 7,
   "id": "45ceee8b",
   "metadata": {
    "tags": []
   },
   "outputs": [
    {
     "name": "stderr",
     "output_type": "stream",
     "text": [
      "25/09/24 21:05:46 WARN SparkStringUtils: Truncated the string representation of a plan since it was too large. This behavior can be adjusted by setting 'spark.sql.debug.maxToStringFields'.\n"
     ]
    },
    {
     "data": {
      "text/plain": [
       "DataFrame[LoanNumber: bigint, DateApproved: string, SBAOfficeCode: double, ProcessingMethod: string, BorrowerName: string, BorrowerAddress: string, BorrowerCity: string, BorrowerState: string, BorrowerZip: string, LoanStatusDate: string, LoanStatus: string, Term: string, SBAGuarantyPercentage: string, InitialApprovalAmount: string, CurrentApprovalAmount: string, UndisbursedAmount: string, FranchiseName: string, ServicingLenderLocationID: string, ServicingLenderName: string, ServicingLenderAddress: string, ServicingLenderCity: string, ServicingLenderState: string, ServicingLenderZip: string, RuralUrbanIndicator: string, HubzoneIndicator: string, LMIIndicator: string, BusinessAgeDescription: string, ProjectCity: string, ProjectCountyName: string, ProjectState: string, ProjectZip: string, CD: string, JobsReported: string, NAICSCode: string, Race: string, Ethnicity: string, UTILITIES_PROCEED: string, PAYROLL_PROCEED: string, MORTGAGE_INTEREST_PROCEED: double, RENT_PROCEED: double, REFINANCE_EIDL_PROCEED: string, HEALTH_CARE_PROCEED: double, DEBT_INTEREST_PROCEED: double, BusinessType: string, OriginatingLenderLocationID: string, OriginatingLender: string, OriginatingLenderCity: string, OriginatingLenderState: string, Gender: string, Veteran: string, NonProfit: string, ForgivenessAmount: string, ForgivenessDate: string]"
      ]
     },
     "execution_count": 7,
     "metadata": {},
     "output_type": "execute_result"
    }
   ],
   "source": [
    "raw_ppp_files_path = gs_path + raw_folder + ppp_folder + '*.csv'\n",
    "raw_ppp_df = spark.read.csv(raw_ppp_files_path, header=True, inferSchema=True)\n",
    "raw_ppp_df.cache()"
   ]
  },
  {
   "cell_type": "code",
   "execution_count": 8,
   "id": "6f9a17ad-d55c-49ed-a808-d36f536009e7",
   "metadata": {
    "tags": []
   },
   "outputs": [
    {
     "name": "stdout",
     "output_type": "stream",
     "text": [
      "root\n",
      " |-- LoanNumber: long (nullable = true)\n",
      " |-- DateApproved: string (nullable = true)\n",
      " |-- SBAOfficeCode: double (nullable = true)\n",
      " |-- ProcessingMethod: string (nullable = true)\n",
      " |-- BorrowerName: string (nullable = true)\n",
      " |-- BorrowerAddress: string (nullable = true)\n",
      " |-- BorrowerCity: string (nullable = true)\n",
      " |-- BorrowerState: string (nullable = true)\n",
      " |-- BorrowerZip: string (nullable = true)\n",
      " |-- LoanStatusDate: string (nullable = true)\n",
      " |-- LoanStatus: string (nullable = true)\n",
      " |-- Term: string (nullable = true)\n",
      " |-- SBAGuarantyPercentage: string (nullable = true)\n",
      " |-- InitialApprovalAmount: string (nullable = true)\n",
      " |-- CurrentApprovalAmount: string (nullable = true)\n",
      " |-- UndisbursedAmount: string (nullable = true)\n",
      " |-- FranchiseName: string (nullable = true)\n",
      " |-- ServicingLenderLocationID: string (nullable = true)\n",
      " |-- ServicingLenderName: string (nullable = true)\n",
      " |-- ServicingLenderAddress: string (nullable = true)\n",
      " |-- ServicingLenderCity: string (nullable = true)\n",
      " |-- ServicingLenderState: string (nullable = true)\n",
      " |-- ServicingLenderZip: string (nullable = true)\n",
      " |-- RuralUrbanIndicator: string (nullable = true)\n",
      " |-- HubzoneIndicator: string (nullable = true)\n",
      " |-- LMIIndicator: string (nullable = true)\n",
      " |-- BusinessAgeDescription: string (nullable = true)\n",
      " |-- ProjectCity: string (nullable = true)\n",
      " |-- ProjectCountyName: string (nullable = true)\n",
      " |-- ProjectState: string (nullable = true)\n",
      " |-- ProjectZip: string (nullable = true)\n",
      " |-- CD: string (nullable = true)\n",
      " |-- JobsReported: string (nullable = true)\n",
      " |-- NAICSCode: string (nullable = true)\n",
      " |-- Race: string (nullable = true)\n",
      " |-- Ethnicity: string (nullable = true)\n",
      " |-- UTILITIES_PROCEED: string (nullable = true)\n",
      " |-- PAYROLL_PROCEED: string (nullable = true)\n",
      " |-- MORTGAGE_INTEREST_PROCEED: double (nullable = true)\n",
      " |-- RENT_PROCEED: double (nullable = true)\n",
      " |-- REFINANCE_EIDL_PROCEED: string (nullable = true)\n",
      " |-- HEALTH_CARE_PROCEED: double (nullable = true)\n",
      " |-- DEBT_INTEREST_PROCEED: double (nullable = true)\n",
      " |-- BusinessType: string (nullable = true)\n",
      " |-- OriginatingLenderLocationID: string (nullable = true)\n",
      " |-- OriginatingLender: string (nullable = true)\n",
      " |-- OriginatingLenderCity: string (nullable = true)\n",
      " |-- OriginatingLenderState: string (nullable = true)\n",
      " |-- Gender: string (nullable = true)\n",
      " |-- Veteran: string (nullable = true)\n",
      " |-- NonProfit: string (nullable = true)\n",
      " |-- ForgivenessAmount: string (nullable = true)\n",
      " |-- ForgivenessDate: string (nullable = true)\n",
      "\n"
     ]
    }
   ],
   "source": [
    "# Raw PPP DataFrame Schema\n",
    "raw_ppp_df.printSchema()"
   ]
  },
  {
   "cell_type": "code",
   "execution_count": 9,
   "id": "d7b75c5b-eaca-463d-8594-a9aaa8b78dc6",
   "metadata": {
    "tags": []
   },
   "outputs": [
    {
     "name": "stdout",
     "output_type": "stream",
     "text": [
      "Number of columns: 53\n"
     ]
    },
    {
     "name": "stderr",
     "output_type": "stream",
     "text": [
      "[Stage 3:========================================>                (29 + 6) / 41]\r"
     ]
    },
    {
     "name": "stdout",
     "output_type": "stream",
     "text": [
      "Number of rows: 11468210\n"
     ]
    },
    {
     "name": "stderr",
     "output_type": "stream",
     "text": [
      "                                                                                \r"
     ]
    }
   ],
   "source": [
    "# Number of columns and rows in Raw PPP DataFrame\n",
    "print(f\"Number of columns: {len(raw_ppp_df.columns)}\")\n",
    "print(f\"Number of rows: {raw_ppp_df.count()}\")"
   ]
  },
  {
   "cell_type": "code",
   "execution_count": 9,
   "id": "0a290dd9-d4b4-4ec7-9b5c-d2e1e22bda83",
   "metadata": {
    "tags": []
   },
   "outputs": [
    {
     "name": "stderr",
     "output_type": "stream",
     "text": [
      "[Stage 6:=======================================================> (40 + 1) / 41]\r"
     ]
    },
    {
     "name": "stdout",
     "output_type": "stream",
     "text": [
      "Size of the entire dataframe in bytes: 17061882659\n"
     ]
    },
    {
     "name": "stderr",
     "output_type": "stream",
     "text": [
      "                                                                                \r"
     ]
    }
   ],
   "source": [
    "# Size of the entire dataframe\n",
    "print(f\"Size of the entire dataframe in bytes: {raw_ppp_df.rdd.map(lambda row: len(str(row))).sum()}\")"
   ]
  },
  {
   "cell_type": "code",
   "execution_count": 11,
   "id": "667b219f-ef5f-43ed-b72e-f00ab678e858",
   "metadata": {
    "tags": []
   },
   "outputs": [
    {
     "name": "stderr",
     "output_type": "stream",
     "text": [
      "[Stage 8:======================================================>  (24 + 1) / 25]\r"
     ]
    },
    {
     "name": "stdout",
     "output_type": "stream",
     "text": [
      "+----------+------------+-------------+----------------+------------+---------------+------------+-------------+-----------+--------------+----------+----+---------------------+---------------------+---------------------+-----------------+-------------+-------------------------+-------------------+----------------------+-------------------+--------------------+------------------+-------------------+----------------+------------+----------------------+-----------+-----------------+------------+----------+---+------------+---------+----+---------+-----------------+---------------+-------------------------+------------+----------------------+-------------------+---------------------+------------+---------------------------+-----------------+---------------------+----------------------+------+-------+---------+-----------------+---------------+\n",
      "|LoanNumber|DateApproved|SBAOfficeCode|ProcessingMethod|BorrowerName|BorrowerAddress|BorrowerCity|BorrowerState|BorrowerZip|LoanStatusDate|LoanStatus|Term|SBAGuarantyPercentage|InitialApprovalAmount|CurrentApprovalAmount|UndisbursedAmount|FranchiseName|ServicingLenderLocationID|ServicingLenderName|ServicingLenderAddress|ServicingLenderCity|ServicingLenderState|ServicingLenderZip|RuralUrbanIndicator|HubzoneIndicator|LMIIndicator|BusinessAgeDescription|ProjectCity|ProjectCountyName|ProjectState|ProjectZip| CD|JobsReported|NAICSCode|Race|Ethnicity|UTILITIES_PROCEED|PAYROLL_PROCEED|MORTGAGE_INTEREST_PROCEED|RENT_PROCEED|REFINANCE_EIDL_PROCEED|HEALTH_CARE_PROCEED|DEBT_INTEREST_PROCEED|BusinessType|OriginatingLenderLocationID|OriginatingLender|OriginatingLenderCity|OriginatingLenderState|Gender|Veteran|NonProfit|ForgivenessAmount|ForgivenessDate|\n",
      "+----------+------------+-------------+----------------+------------+---------------+------------+-------------+-----------+--------------+----------+----+---------------------+---------------------+---------------------+-----------------+-------------+-------------------------+-------------------+----------------------+-------------------+--------------------+------------------+-------------------+----------------+------------+----------------------+-----------+-----------------+------------+----------+---+------------+---------+----+---------+-----------------+---------------+-------------------------+------------+----------------------+-------------------+---------------------+------------+---------------------------+-----------------+---------------------+----------------------+------+-------+---------+-----------------+---------------+\n",
      "|  11468210|         247|           76|               2|     8793356|        9334278|       75685|           96|    5034631|          1420|        38| 162|                    5|              1112279|              1119830|               47|         3733|                     7200|               4572|                  4840|               3153|                  78|              5006|                 28|               7|           4|                     7|      75823|             1974|          89|   5045110|504|         875|     1294|  43|       11|           148304|        1345870|                    85194|       95016|                  3700|              42528|                15117|          26|                       7967|             4715|                 3473|                    78|    22|      8|        5|          4750967|           1001|\n",
      "+----------+------------+-------------+----------------+------------+---------------+------------+-------------+-----------+--------------+----------+----+---------------------+---------------------+---------------------+-----------------+-------------+-------------------------+-------------------+----------------------+-------------------+--------------------+------------------+-------------------+----------------+------------+----------------------+-----------+-----------------+------------+----------+---+------------+---------+----+---------+-----------------+---------------+-------------------------+------------+----------------------+-------------------+---------------------+------------+---------------------------+-----------------+---------------------+----------------------+------+-------+---------+-----------------+---------------+\n",
      "\n"
     ]
    },
    {
     "name": "stderr",
     "output_type": "stream",
     "text": [
      "                                                                                \r"
     ]
    }
   ],
   "source": [
    "# Number of unique values in each column of the dataframe\n",
    "unique_counts = raw_ppp_df.agg(*(countDistinct(column(c)).alias(c) for c in raw_ppp_df.columns))\n",
    "unique_counts.show()"
   ]
  },
  {
   "cell_type": "code",
   "execution_count": 14,
   "id": "3561fb78-1f0b-418c-9480-95196d8a7a61",
   "metadata": {
    "tags": []
   },
   "outputs": [
    {
     "name": "stderr",
     "output_type": "stream",
     "text": [
      "[Stage 12:======================================================> (40 + 1) / 41]\r"
     ]
    },
    {
     "name": "stdout",
     "output_type": "stream",
     "text": [
      "+----------+------------+-------------+----------------+------------+---------------+------------+-------------+-----------+--------------+----------+----+---------------------+---------------------+---------------------+-----------------+-------------+-------------------------+-------------------+----------------------+-------------------+--------------------+------------------+-------------------+----------------+------------+----------------------+-----------+-----------------+------------+----------+---+------------+---------+----+---------+-----------------+---------------+-------------------------+------------+----------------------+-------------------+---------------------+------------+---------------------------+-----------------+---------------------+----------------------+------+-------+---------+-----------------+---------------+\n",
      "|LoanNumber|DateApproved|SBAOfficeCode|ProcessingMethod|BorrowerName|BorrowerAddress|BorrowerCity|BorrowerState|BorrowerZip|LoanStatusDate|LoanStatus|Term|SBAGuarantyPercentage|InitialApprovalAmount|CurrentApprovalAmount|UndisbursedAmount|FranchiseName|ServicingLenderLocationID|ServicingLenderName|ServicingLenderAddress|ServicingLenderCity|ServicingLenderState|ServicingLenderZip|RuralUrbanIndicator|HubzoneIndicator|LMIIndicator|BusinessAgeDescription|ProjectCity|ProjectCountyName|ProjectState|ProjectZip| CD|JobsReported|NAICSCode|Race|Ethnicity|UTILITIES_PROCEED|PAYROLL_PROCEED|MORTGAGE_INTEREST_PROCEED|RENT_PROCEED|REFINANCE_EIDL_PROCEED|HEALTH_CARE_PROCEED|DEBT_INTEREST_PROCEED|BusinessType|OriginatingLenderLocationID|OriginatingLender|OriginatingLenderCity|OriginatingLenderState|Gender|Veteran|NonProfit|ForgivenessAmount|ForgivenessDate|\n",
      "+----------+------------+-------------+----------------+------------+---------------+------------+-------------+-----------+--------------+----------+----+---------------------+---------------------+---------------------+-----------------+-------------+-------------------------+-------------------+----------------------+-------------------+--------------------+------------------+-------------------+----------------+------------+----------------------+-----------+-----------------+------------+----------+---+------------+---------+----+---------+-----------------+---------------+-------------------------+------------+----------------------+-------------------+---------------------+------------+---------------------------+-----------------+---------------------+----------------------+------+-------+---------+-----------------+---------------+\n",
      "|         0|           0|           28|               0|          50|            217|         207|          165|        197|        169089|         0|   0|                    0|                    0|                    0|             1143|     11318087|                       61|                 31|                    28|                 28|                  29|                28|                  0|               0|           4|                     2|        215|              631|         144|       204|527|           8|   132321|   2|        0|          7879865|          12120|                 11191324|    10948739|              11347006|           11260730|             11332472|        2291|                         32|               29|                   29|                    29|     1|      1| 11214042|           897732|         897702|\n",
      "+----------+------------+-------------+----------------+------------+---------------+------------+-------------+-----------+--------------+----------+----+---------------------+---------------------+---------------------+-----------------+-------------+-------------------------+-------------------+----------------------+-------------------+--------------------+------------------+-------------------+----------------+------------+----------------------+-----------+-----------------+------------+----------+---+------------+---------+----+---------+-----------------+---------------+-------------------------+------------+----------------------+-------------------+---------------------+------------+---------------------------+-----------------+---------------------+----------------------+------+-------+---------+-----------------+---------------+\n",
      "\n"
     ]
    },
    {
     "name": "stderr",
     "output_type": "stream",
     "text": [
      "                                                                                \r"
     ]
    }
   ],
   "source": [
    "null_nan_counts = raw_ppp_df.select([count(when(isnan(c) | col(c).isNull(), c)).alias(c) for c in raw_ppp_df.columns])\n",
    "null_nan_counts.show()"
   ]
  },
  {
   "cell_type": "code",
   "execution_count": 15,
   "id": "7f8257d7-dfeb-462b-9ad6-9b00f7321b92",
   "metadata": {
    "tags": []
   },
   "outputs": [
    {
     "name": "stderr",
     "output_type": "stream",
     "text": [
      "[Stage 15:===========================================>            (32 + 7) / 41]\r"
     ]
    },
    {
     "name": "stdout",
     "output_type": "stream",
     "text": [
      "+-------+---------------------+---------------------+------------------+\n",
      "|summary|InitialApprovalAmount|CurrentApprovalAmount| UndisbursedAmount|\n",
      "+-------+---------------------+---------------------+------------------+\n",
      "|  count|             11468209|             11468209|          11467066|\n",
      "|   mean|    69481.26948668293|    69112.88843467546|0.2916425212866133|\n",
      "| stddev|   260366.70654722565|   257656.11950719336|293.81883760601664|\n",
      "|    min|            -199659.0|                  0.0|               0.0|\n",
      "|    max|                1.0E7|                1.0E7|         612491.45|\n",
      "+-------+---------------------+---------------------+------------------+\n",
      "\n"
     ]
    },
    {
     "name": "stderr",
     "output_type": "stream",
     "text": [
      "                                                                                \r"
     ]
    }
   ],
   "source": [
    "# Set InitialApprovalAmount, CurrentApprovalAmount, and UndisbursedAmount to double\n",
    "raw_ppp_df = raw_ppp_df.withColumn(\"InitialApprovalAmount\", raw_ppp_df[\"InitialApprovalAmount\"].cast(\"double\")) \\\n",
    "                       .withColumn(\"CurrentApprovalAmount\", raw_ppp_df[\"CurrentApprovalAmount\"].cast(\"double\")) \\\n",
    "                       .withColumn(\"UndisbursedAmount\", raw_ppp_df[\"UndisbursedAmount\"].cast(\"double\"))\n",
    "\n",
    "# Summary statistics for InitialApprovalAmount, CurrentApprovalAmount, and UndisbursedAmount\n",
    "raw_ppp_df.select(\"InitialApprovalAmount\", \"CurrentApprovalAmount\", \"UndisbursedAmount\").describe().show()"
   ]
  },
  {
   "cell_type": "code",
   "execution_count": 17,
   "id": "0af46430-db40-4a4e-a1e8-0cc4948a81c0",
   "metadata": {
    "tags": []
   },
   "outputs": [
    {
     "name": "stderr",
     "output_type": "stream",
     "text": [
      "                                                                                \r"
     ]
    },
    {
     "data": {
      "image/png": "[encoded data removed]",
      "text/plain": [
       "<Figure size 640x480 with 1 Axes>"
      ]
     },
     "metadata": {},
     "output_type": "display_data"
    }
   ],
   "source": [
    "# Create a histogram for InitialApprovalAmount\n",
    "import matplotlib.pyplot as plt\n",
    "import numpy as np\n",
    "initial_approval_amounts = raw_ppp_df.filter(raw_ppp_df[\"InitialApprovalAmount\"].isNotNull()).select(\"InitialApprovalAmount\").rdd.flatMap(lambda x: x).collect()\n",
    "plt.hist(initial_approval_amounts, bins=50, color='blue', alpha=0.7)\n",
    "plt.title('Histogram of Initial Approval Amounts')\n",
    "plt.xlabel('Initial Approval Amount')\n",
    "plt.ylabel('Frequency')\n",
    "plt.grid(True)\n",
    "plt.show()"
   ]
  },
  {
   "cell_type": "code",
   "execution_count": 18,
   "id": "91c1c754-a552-4526-88b4-cfd47ca77740",
   "metadata": {
    "tags": []
   },
   "outputs": [
    {
     "name": "stderr",
     "output_type": "stream",
     "text": [
      "                                                                                \r"
     ]
    },
    {
     "data": {
      "image/png": "[encoded data removed]",
      "text/plain": [
       "<Figure size 640x480 with 1 Axes>"
      ]
     },
     "metadata": {},
     "output_type": "display_data"
    }
   ],
   "source": [
    "# Histogram for CurrentApprovalAmount\n",
    "current_approval_amounts = raw_ppp_df.filter(raw_ppp_df[\"CurrentApprovalAmount\"].isNotNull()).select(\"CurrentApprovalAmount\").rdd.flatMap(lambda x: x).collect()\n",
    "plt.hist(current_approval_amounts, bins=50, color='green', alpha=0.7)\n",
    "plt.title('Histogram of Current Approval Amounts')\n",
    "plt.xlabel('Current Approval Amount')\n",
    "plt.ylabel('Frequency')\n",
    "plt.grid(True)\n",
    "plt.show()"
   ]
  },
  {
   "cell_type": "code",
   "execution_count": 20,
   "id": "e15378d5-40be-4f05-9642-54df3fe2e4a3",
   "metadata": {
    "tags": []
   },
   "outputs": [
    {
     "data": {
      "image/png": "[encoded data removed]",
      "text/plain": [
       "<Figure size 640x480 with 1 Axes>"
      ]
     },
     "metadata": {},
     "output_type": "display_data"
    }
   ],
   "source": [
    "# Box plot for CurrentApprovalAmount\n",
    "plt.boxplot(current_approval_amounts, vert=True)\n",
    "plt.title('Box Plot of Current Approval Amounts')\n",
    "plt.ylabel('Current Approval Amount')\n",
    "plt.grid(True)\n",
    "plt.show()"
   ]
  },
  {
   "cell_type": "markdown",
   "id": "c661d665",
   "metadata": {},
   "source": [
    "# Clean PPP Data"
   ]
  },
  {
   "cell_type": "code",
   "execution_count": 6,
   "id": "bbadbe27",
   "metadata": {
    "tags": []
   },
   "outputs": [
    {
     "name": "stderr",
     "output_type": "stream",
     "text": [
      "25/09/25 17:42:52 WARN SparkStringUtils: Truncated the string representation of a plan since it was too large. This behavior can be adjusted by setting 'spark.sql.debug.maxToStringFields'.\n"
     ]
    },
    {
     "data": {
      "text/plain": [
       "DataFrame[loan_number: bigint, date_approved_id: int, sba_office_code: int, processing_method: string, borrower_name: string, borrower_address: string, borrower_city: string, borrower_state: string, borrower_zip: string, loan_status_date_id: string, loan_status: string, term_month: string, sba_guaranty_percentage: string, initial_approval_amount: double, current_approval_amount: double, undisbursed_amount: double, franchise_name: string, servicing_lender_location_id: double, servicing_lender_name: string, servicing_lender_address: string, servicing_lender_city: string, servicing_lender_state: string, servicing_lender_zip: string, business_age_description: string, project_county_name: string, project_state: string, jobs_reported: string, naics_code: string, race: string, ethnicity: string, business_type: string, originating_lender_location_id: string, originating_lender: string, originating_lender_city: string, originating_lender_state: string, gender: string, veteran: string, nonprofit: string, forgiveness_amount: string, forgiveness_date_id: string, facts_ppp_id: double]"
      ]
     },
     "execution_count": 6,
     "metadata": {},
     "output_type": "execute_result"
    }
   ],
   "source": [
    "clean_ppp_files_path = gs_path + clean_folder + ppp_folder + '*.csv'\n",
    "clean_ppp_df = spark.read.csv(clean_ppp_files_path, header=True, inferSchema=True)\n",
    "clean_ppp_df.cache()"
   ]
  },
  {
   "cell_type": "code",
   "execution_count": 7,
   "id": "87cfc731",
   "metadata": {
    "tags": []
   },
   "outputs": [
    {
     "name": "stdout",
     "output_type": "stream",
     "text": [
      "root\n",
      " |-- loan_number: long (nullable = true)\n",
      " |-- date_approved_id: integer (nullable = true)\n",
      " |-- sba_office_code: integer (nullable = true)\n",
      " |-- processing_method: string (nullable = true)\n",
      " |-- borrower_name: string (nullable = true)\n",
      " |-- borrower_address: string (nullable = true)\n",
      " |-- borrower_city: string (nullable = true)\n",
      " |-- borrower_state: string (nullable = true)\n",
      " |-- borrower_zip: string (nullable = true)\n",
      " |-- loan_status_date_id: string (nullable = true)\n",
      " |-- loan_status: string (nullable = true)\n",
      " |-- term_month: string (nullable = true)\n",
      " |-- sba_guaranty_percentage: string (nullable = true)\n",
      " |-- initial_approval_amount: double (nullable = true)\n",
      " |-- current_approval_amount: double (nullable = true)\n",
      " |-- undisbursed_amount: double (nullable = true)\n",
      " |-- franchise_name: string (nullable = true)\n",
      " |-- servicing_lender_location_id: double (nullable = true)\n",
      " |-- servicing_lender_name: string (nullable = true)\n",
      " |-- servicing_lender_address: string (nullable = true)\n",
      " |-- servicing_lender_city: string (nullable = true)\n",
      " |-- servicing_lender_state: string (nullable = true)\n",
      " |-- servicing_lender_zip: string (nullable = true)\n",
      " |-- business_age_description: string (nullable = true)\n",
      " |-- project_county_name: string (nullable = true)\n",
      " |-- project_state: string (nullable = true)\n",
      " |-- jobs_reported: string (nullable = true)\n",
      " |-- naics_code: string (nullable = true)\n",
      " |-- race: string (nullable = true)\n",
      " |-- ethnicity: string (nullable = true)\n",
      " |-- business_type: string (nullable = true)\n",
      " |-- originating_lender_location_id: string (nullable = true)\n",
      " |-- originating_lender: string (nullable = true)\n",
      " |-- originating_lender_city: string (nullable = true)\n",
      " |-- originating_lender_state: string (nullable = true)\n",
      " |-- gender: string (nullable = true)\n",
      " |-- veteran: string (nullable = true)\n",
      " |-- nonprofit: string (nullable = true)\n",
      " |-- forgiveness_amount: string (nullable = true)\n",
      " |-- forgiveness_date_id: string (nullable = true)\n",
      " |-- facts_ppp_id: double (nullable = true)\n",
      "\n"
     ]
    }
   ],
   "source": [
    "# Clean PPP DataFrame Schema\n",
    "clean_ppp_df.printSchema()"
   ]
  },
  {
   "cell_type": "code",
   "execution_count": 8,
   "id": "92bb0457",
   "metadata": {
    "tags": []
   },
   "outputs": [
    {
     "name": "stdout",
     "output_type": "stream",
     "text": [
      "Number of columns: 41\n"
     ]
    },
    {
     "name": "stderr",
     "output_type": "stream",
     "text": [
      "[Stage 3:=====================================================>   (32 + 2) / 34]\r"
     ]
    },
    {
     "name": "stdout",
     "output_type": "stream",
     "text": [
      "Number of rows: 9936143\n"
     ]
    },
    {
     "name": "stderr",
     "output_type": "stream",
     "text": [
      "                                                                                \r"
     ]
    }
   ],
   "source": [
    "# Number of columns and rows in Clean PPP DataFrame\n",
    "print(f\"Number of columns: {len(clean_ppp_df.columns)}\")\n",
    "print(f\"Number of rows: {clean_ppp_df.count()}\")"
   ]
  },
  {
   "cell_type": "code",
   "execution_count": 9,
   "id": "99101222",
   "metadata": {
    "tags": []
   },
   "outputs": [
    {
     "name": "stderr",
     "output_type": "stream",
     "text": [
      "[Stage 6:=======================================================> (33 + 1) / 34]\r"
     ]
    },
    {
     "name": "stdout",
     "output_type": "stream",
     "text": [
      "Size of the entire dataframe in bytes: 12467934945\n"
     ]
    },
    {
     "name": "stderr",
     "output_type": "stream",
     "text": [
      "                                                                                \r"
     ]
    }
   ],
   "source": [
    "# Size of the entire dataframe\n",
    "print(f\"Size of the entire dataframe in bytes: {clean_ppp_df.rdd.map(lambda row: len(str(row))).sum()}\")"
   ]
  },
  {
   "cell_type": "code",
   "execution_count": 10,
   "id": "2736a451",
   "metadata": {
    "tags": []
   },
   "outputs": [
    {
     "name": "stderr",
     "output_type": "stream",
     "text": [
      "[Stage 9:======================================================>  (19 + 1) / 20]\r"
     ]
    },
    {
     "name": "stdout",
     "output_type": "stream",
     "text": [
      "+-----------+----------------+---------------+-----------------+-------------+----------------+-------------+--------------+------------+-------------------+-----------+----------+-----------------------+-----------------------+-----------------------+------------------+--------------+----------------------------+---------------------+------------------------+---------------------+----------------------+--------------------+------------------------+-------------------+-------------+-------------+----------+----+---------+-------------+------------------------------+------------------+-----------------------+------------------------+------+-------+---------+------------------+-------------------+------------+\n",
      "|loan_number|date_approved_id|sba_office_code|processing_method|borrower_name|borrower_address|borrower_city|borrower_state|borrower_zip|loan_status_date_id|loan_status|term_month|sba_guaranty_percentage|initial_approval_amount|current_approval_amount|undisbursed_amount|franchise_name|servicing_lender_location_id|servicing_lender_name|servicing_lender_address|servicing_lender_city|servicing_lender_state|servicing_lender_zip|business_age_description|project_county_name|project_state|jobs_reported|naics_code|race|ethnicity|business_type|originating_lender_location_id|originating_lender|originating_lender_city|originating_lender_state|gender|veteran|nonprofit|forgiveness_amount|forgiveness_date_id|facts_ppp_id|\n",
      "+-----------+----------------+---------------+-----------------+-------------+----------------+-------------+--------------+------------+-------------------+-----------+----------+-----------------------+-----------------------+-----------------------+------------------+--------------+----------------------------+---------------------+------------------------+---------------------+----------------------+--------------------+------------------------+-------------------+-------------+-------------+----------+----+---------+-------------+------------------------------+------------------+-----------------------+------------------------+------+-------+---------+------------------+-------------------+------------+\n",
      "|    9936143|             246|             76|                2|      7766513|         7480593|        40033|            86|     4577408|               1367|         31|       139|                      4|                1054386|                1061970|                33|          3684|                        5047|                 4558|                    4828|                 2850|                    74|                4995|                      26|               1941|           83|          522|      1278|  39|       10|           29|                          5624|              4706|                   3057|                      75|    20|      7|        4|           4547835|                996|     9936141|\n",
      "+-----------+----------------+---------------+-----------------+-------------+----------------+-------------+--------------+------------+-------------------+-----------+----------+-----------------------+-----------------------+-----------------------+------------------+--------------+----------------------------+---------------------+------------------------+---------------------+----------------------+--------------------+------------------------+-------------------+-------------+-------------+----------+----+---------+-------------+------------------------------+------------------+-----------------------+------------------------+------+-------+---------+------------------+-------------------+------------+\n",
      "\n"
     ]
    },
    {
     "name": "stderr",
     "output_type": "stream",
     "text": [
      "                                                                                \r"
     ]
    }
   ],
   "source": [
    "# Number of unique values in each column of the dataframe\n",
    "unique_counts = clean_ppp_df.agg(*(countDistinct(column(c)).alias(c) for c in clean_ppp_df.columns))\n",
    "unique_counts.show()"
   ]
  },
  {
   "cell_type": "code",
   "execution_count": 11,
   "id": "c02193f2",
   "metadata": {},
   "outputs": [
    {
     "name": "stderr",
     "output_type": "stream",
     "text": [
      "[Stage 13:======================================================> (33 + 1) / 34]\r"
     ]
    },
    {
     "name": "stdout",
     "output_type": "stream",
     "text": [
      "+-----------+----------------+---------------+-----------------+-------------+----------------+-------------+--------------+------------+-------------------+-----------+----------+-----------------------+-----------------------+-----------------------+------------------+--------------+----------------------------+---------------------+------------------------+---------------------+----------------------+--------------------+------------------------+-------------------+-------------+-------------+----------+----+---------+-------------+------------------------------+------------------+-----------------------+------------------------+------+-------+---------+------------------+-------------------+------------+\n",
      "|loan_number|date_approved_id|sba_office_code|processing_method|borrower_name|borrower_address|borrower_city|borrower_state|borrower_zip|loan_status_date_id|loan_status|term_month|sba_guaranty_percentage|initial_approval_amount|current_approval_amount|undisbursed_amount|franchise_name|servicing_lender_location_id|servicing_lender_name|servicing_lender_address|servicing_lender_city|servicing_lender_state|servicing_lender_zip|business_age_description|project_county_name|project_state|jobs_reported|naics_code|race|ethnicity|business_type|originating_lender_location_id|originating_lender|originating_lender_city|originating_lender_state|gender|veteran|nonprofit|forgiveness_amount|forgiveness_date_id|facts_ppp_id|\n",
      "+-----------+----------------+---------------+-----------------+-------------+----------------+-------------+--------------+------------+-------------------+-----------+----------+-----------------------+-----------------------+-----------------------+------------------+--------------+----------------------------+---------------------+------------------------+---------------------+----------------------+--------------------+------------------------+-------------------+-------------+-------------+----------+----+---------+-------------+------------------------------+------------------+-----------------------+------------------------+------+-------+---------+------------------+-------------------+------------+\n",
      "|          0|               0|              0|                0|           35|              56|           44|             0|          37|                  0|          0|         0|                      0|                      0|                      0|              1095|       9795186|                          27|                    3|                       0|                    0|                     0|                   0|                       0|                246|            1|            0|         0|   0|        0|            0|                             0|                 0|                      0|                       0|     0|      0|        0|                 0|                  0|           0|\n",
      "+-----------+----------------+---------------+-----------------+-------------+----------------+-------------+--------------+------------+-------------------+-----------+----------+-----------------------+-----------------------+-----------------------+------------------+--------------+----------------------------+---------------------+------------------------+---------------------+----------------------+--------------------+------------------------+-------------------+-------------+-------------+----------+----+---------+-------------+------------------------------+------------------+-----------------------+------------------------+------+-------+---------+------------------+-------------------+------------+\n",
      "\n"
     ]
    },
    {
     "name": "stderr",
     "output_type": "stream",
     "text": [
      "                                                                                \r"
     ]
    }
   ],
   "source": [
    "# Number of null and NaN values in each column of the dataframe\n",
    "null_nan_counts = clean_ppp_df.select([count(when(isnan(c) | col(c).isNull(), c)).alias(c) for c in clean_ppp_df.columns])\n",
    "null_nan_counts.show()"
   ]
  },
  {
   "cell_type": "code",
   "execution_count": 13,
   "id": "e62c71fe",
   "metadata": {
    "tags": []
   },
   "outputs": [
    {
     "name": "stderr",
     "output_type": "stream",
     "text": [
      "[Stage 16:==============================================>         (28 + 4) / 34]\r"
     ]
    },
    {
     "name": "stdout",
     "output_type": "stream",
     "text": [
      "+-------+-----------------------+-----------------------+-------------------+\n",
      "|summary|initial_approval_amount|current_approval_amount| undisbursed_amount|\n",
      "+-------+-----------------------+-----------------------+-------------------+\n",
      "|  count|                9936143|                9936143|            9935048|\n",
      "|   mean|      71757.53588711748|      71384.11042554403|0.19046273958616003|\n",
      "| stddev|     261317.95765856383|     258575.60604798916|  232.0136602890291|\n",
      "|    min|              -199659.0|                    7.0|                0.0|\n",
      "|    max|                  1.0E7|                  1.0E7|          612491.45|\n",
      "+-------+-----------------------+-----------------------+-------------------+\n",
      "\n"
     ]
    },
    {
     "name": "stderr",
     "output_type": "stream",
     "text": [
      "                                                                                \r"
     ]
    }
   ],
   "source": [
    "# Summary statistics for InitialApprovalAmount, CurrentApprovalAmount, and UndisbursedAmount in Clean PPP DataFrame\n",
    "clean_ppp_df.select(\"initial_approval_amount\", \"current_approval_amount\", \"undisbursed_amount\").describe().show()\n"
   ]
  },
  {
   "cell_type": "code",
   "execution_count": 14,
   "id": "f4c91fd7-a70e-4467-94ce-0cf11b55a290",
   "metadata": {
    "tags": []
   },
   "outputs": [
    {
     "name": "stderr",
     "output_type": "stream",
     "text": [
      "[Stage 19:============================================>           (27 + 5) / 34]\r"
     ]
    },
    {
     "name": "stdout",
     "output_type": "stream",
     "text": [
      "+------------+\n",
      "|     Veteran|\n",
      "+------------+\n",
      "|        True|\n",
      "|  Unanswered|\n",
      "|       False|\n",
      "|          IL|\n",
      "|  Male Owned|\n",
      "|          NC|\n",
      "|Female Owned|\n",
      "+------------+\n",
      "\n"
     ]
    },
    {
     "name": "stderr",
     "output_type": "stream",
     "text": [
      "                                                                                \r"
     ]
    }
   ],
   "source": [
    "# Unique values in veteran\n",
    "clean_ppp_df.select(\"Veteran\").distinct().show()"
   ]
  },
  {
   "cell_type": "code",
   "execution_count": 15,
   "id": "9719105c-0bde-4205-a2d4-b745ed3244e8",
   "metadata": {
    "tags": []
   },
   "outputs": [
    {
     "name": "stdout",
     "output_type": "stream",
     "text": [
      "+----------+\n",
      "| Nonprofit|\n",
      "+----------+\n",
      "|      True|\n",
      "|     False|\n",
      "|Unanswered|\n",
      "|Male Owned|\n",
      "+----------+\n",
      "\n"
     ]
    }
   ],
   "source": [
    "# Unique values in nonprofit\n",
    "clean_ppp_df.select(\"Nonprofit\").distinct().show()"
   ]
  },
  {
   "cell_type": "code",
   "execution_count": 16,
   "id": "4196b859-fd51-4a4f-98bf-546aa21b3167",
   "metadata": {
    "tags": []
   },
   "outputs": [
    {
     "data": {
      "text/plain": [
       "[('loan_status_date_id', 'string')]"
      ]
     },
     "execution_count": 16,
     "metadata": {},
     "output_type": "execute_result"
    }
   ],
   "source": [
    "clean_ppp_df.select(\"loan_status_date_id\").dtypes"
   ]
  },
  {
   "cell_type": "code",
   "execution_count": 19,
   "id": "5796f257-fc67-4972-bdf0-3a84af315ae0",
   "metadata": {
    "tags": []
   },
   "outputs": [
    {
     "name": "stderr",
     "output_type": "stream",
     "text": [
      "                                                                                \r"
     ]
    },
    {
     "name": "stdout",
     "output_type": "stream",
     "text": [
      "Number of rows with string loan_status_date_id: 13\n",
      "+-------------------+\n",
      "|loan_status_date_id|\n",
      "+-------------------+\n",
      "|TX                 |\n",
      "|VA                 |\n",
      "|72118-2989         |\n",
      "|92311-2557         |\n",
      "|80601-1611         |\n",
      "|34786-8427         |\n",
      "|32095-8323         |\n",
      "|30088-1402         |\n",
      "|40291-2502         |\n",
      "|28540-8884         |\n",
      "|10001-1117         |\n",
      "|45213-1136         |\n",
      "|CT                 |\n",
      "+-------------------+\n",
      "\n"
     ]
    }
   ],
   "source": [
    "string_loan_status_date_id_df = clean_ppp_df.filter(clean_ppp_df[\"loan_status_date_id\"].cast(\"string\").isNotNull() & (clean_ppp_df[\"loan_status_date_id\"].cast(\"int\").isNull()))\n",
    "print(f\"Number of rows with string loan_status_date_id: {string_loan_status_date_id_df.count()}\")\n",
    "string_loan_status_date_id_df.select(\"loan_status_date_id\").show(truncate=False)"
   ]
  },
  {
   "cell_type": "code",
   "execution_count": 21,
   "id": "7f1a9461-d337-4024-85af-f5dd8359faeb",
   "metadata": {
    "tags": []
   },
   "outputs": [
    {
     "name": "stderr",
     "output_type": "stream",
     "text": [
      "                                                                                \r"
     ]
    },
    {
     "name": "stdout",
     "output_type": "stream",
     "text": [
      "Number of rows with string term_month: 27\n",
      "+------------+\n",
      "|term_month  |\n",
      "+------------+\n",
      "|Paid in Full|\n",
      "|Paid in Full|\n",
      "|Paid in Full|\n",
      "|Paid in Full|\n",
      "|Paid in Full|\n",
      "|Paid in Full|\n",
      "|Paid in Full|\n",
      "|Paid in Full|\n",
      "|Paid in Full|\n",
      "|Paid in Full|\n",
      "|Paid in Full|\n",
      "|Paid in Full|\n",
      "|Paid in Full|\n",
      "|Paid in Full|\n",
      "|Paid in Full|\n",
      "|Paid in Full|\n",
      "|Paid in Full|\n",
      "|Paid in Full|\n",
      "|Paid in Full|\n",
      "|Paid in Full|\n",
      "+------------+\n",
      "only showing top 20 rows\n",
      "\n"
     ]
    }
   ],
   "source": [
    "# Data types in term_month column\n",
    "clean_ppp_df.select(\"term_month\").dtypes\n",
    "# Records where term_month is a string and not an integer\n",
    "string_term_month_df = clean_ppp_df.filter(clean_ppp_df[\"term_month\"].cast(\"string\").isNotNull() & (clean_ppp_df[\"term_month\"].cast(\"int\").isNull()))\n",
    "print(f\"Number of rows with string term_month: {string_term_month_df.count()}\")\n",
    "# Show only the term_month column\n",
    "string_term_month_df.select(\"term_month\").show(truncate=False)"
   ]
  },
  {
   "cell_type": "code",
   "execution_count": 23,
   "id": "f5b5cc92-07bd-49c5-91f2-71e62346a651",
   "metadata": {
    "tags": []
   },
   "outputs": [
    {
     "name": "stderr",
     "output_type": "stream",
     "text": [
      "                                                                                \r"
     ]
    },
    {
     "name": "stdout",
     "output_type": "stream",
     "text": [
      "Number of rows with string sba_guaranty_percentage: 3\n",
      "+-----------------------+\n",
      "|sba_guaranty_percentage|\n",
      "+-----------------------+\n",
      "|Paid in Full           |\n",
      "|Paid in Full           |\n",
      "|Paid in Full           |\n",
      "+-----------------------+\n",
      "\n"
     ]
    }
   ],
   "source": [
    "# Records where sba_guaranty_percentage is a string and double/float\n",
    "string_sba_guaranty_percentage_df = clean_ppp_df.filter(clean_ppp_df[\"sba_guaranty_percentage\"].cast(\"string\").isNotNull() & (clean_ppp_df[\"sba_guaranty_percentage\"].cast(\"double\").isNull()))\n",
    "print(f\"Number of rows with string sba_guaranty_percentage: {string_sba_guaranty_percentage_df.count()}\")\n",
    "# Show only the sba_guaranty_percentage column\n",
    "string_sba_guaranty_percentage_df.select(\"sba_guaranty_percentage\").show(truncate=False)"
   ]
  },
  {
   "cell_type": "code",
   "execution_count": 24,
   "id": "99d9586c-57ed-49a9-9586-cf31fa0ba8b0",
   "metadata": {
    "tags": []
   },
   "outputs": [
    {
     "name": "stdout",
     "output_type": "stream",
     "text": [
      "Number of rows with string naics_code: 3\n",
      "+----------+\n",
      "|naics_code|\n",
      "+----------+\n",
      "|TX        |\n",
      "|VA        |\n",
      "|CT        |\n",
      "+----------+\n",
      "\n"
     ]
    }
   ],
   "source": [
    "# Records where naics_code is a string and not an integer\n",
    "string_naics_code_df = clean_ppp_df.filter(clean_ppp_df[\"naics_code\"].cast(\"string\").isNotNull() & (clean_ppp_df[\"naics_code\"].cast(\"int\").isNull()))\n",
    "print(f\"Number of rows with string naics_code: {string_naics_code_df.count()}\")\n",
    "# Show only the naics_code column\n",
    "string_naics_code_df.select(\"naics_code\").show(truncate=False)"
   ]
  },
  {
   "cell_type": "code",
   "execution_count": 25,
   "id": "b67ad62f-d03e-4d15-8109-842b370d6bc7",
   "metadata": {
    "tags": []
   },
   "outputs": [
    {
     "name": "stderr",
     "output_type": "stream",
     "text": [
      "                                                                                \r"
     ]
    },
    {
     "name": "stdout",
     "output_type": "stream",
     "text": [
      "Number of rows with string forgiveness_amount: 30\n",
      "+------------------+\n",
      "|forgiveness_amount|\n",
      "+------------------+\n",
      "|False             |\n",
      "|False             |\n",
      "|False             |\n",
      "|False             |\n",
      "|False             |\n",
      "|False             |\n",
      "|True              |\n",
      "|False             |\n",
      "|False             |\n",
      "|False             |\n",
      "|False             |\n",
      "|False             |\n",
      "|False             |\n",
      "|False             |\n",
      "|False             |\n",
      "|False             |\n",
      "|False             |\n",
      "|False             |\n",
      "|False             |\n",
      "|False             |\n",
      "+------------------+\n",
      "only showing top 20 rows\n",
      "\n"
     ]
    }
   ],
   "source": [
    "# Records where forgiveness_amount is a string and not a double\n",
    "string_forgiveness_amount_df = clean_ppp_df.filter(clean_ppp_df[\"forgiveness_amount\"].cast(\"string\").isNotNull() & (clean_ppp_df[\"forgiveness_amount\"].cast(\"double\").isNull()))\n",
    "print(f\"Number of rows with string forgiveness_amount: {string_forgiveness_amount_df.count()}\")\n",
    "# Show only the forgiveness_amount column\n",
    "string_forgiveness_amount_df.select(\"forgiveness_amount\").show(truncate=False)"
   ]
  },
  {
   "cell_type": "code",
   "execution_count": 26,
   "id": "1f70463d-bc27-47a1-99cf-17666130354d",
   "metadata": {
    "tags": []
   },
   "outputs": [
    {
     "name": "stdout",
     "output_type": "stream",
     "text": [
      "Number of rows with string forgiveness_date_id: 3\n",
      "+-------------------+\n",
      "|forgiveness_date_id|\n",
      "+-------------------+\n",
      "|False              |\n",
      "|False              |\n",
      "|False              |\n",
      "+-------------------+\n",
      "\n"
     ]
    }
   ],
   "source": [
    "# Records where forgiveness_date_id is a string and not an integer\n",
    "string_forgiveness_date_id_df = clean_ppp_df.filter(clean_ppp_df[\"forgiveness_date_id\"].cast(\"string\").isNotNull() & (clean_ppp_df[\"forgiveness_date_id\"].cast(\"int\").isNull()))\n",
    "print(f\"Number of rows with string forgiveness_date_id: {string_forgiveness_date_id_df.count()}\")\n",
    "# Show only the forgiveness_date_id column\n",
    "string_forgiveness_date_id_df.select(\"forgiveness_date_id\").show(truncate=False)"
   ]
  },
  {
   "cell_type": "code",
   "execution_count": 28,
   "id": "37e49ca6-e301-4a02-9d2e-a8994ef55846",
   "metadata": {
    "tags": []
   },
   "outputs": [
    {
     "data": {
      "text/plain": [
       "[('facts_ppp_id', 'double')]"
      ]
     },
     "execution_count": 28,
     "metadata": {},
     "output_type": "execute_result"
    }
   ],
   "source": [
    "# facts_ppp_id data type\n",
    "clean_ppp_df.select(\"facts_ppp_id\").dtypes"
   ]
  },
  {
   "cell_type": "code",
   "execution_count": null,
   "id": "36c27cd9",
   "metadata": {},
   "outputs": [],
   "source": [
    "# Unique loan_status values\n",
    "loan_status_df = clean_ppp_df.select(\"loan_status\").distinct()\n",
    "loan_status_df.show(truncate=False)"
   ]
  },
  {
   "cell_type": "code",
   "execution_count": null,
   "id": "7519bf40",
   "metadata": {},
   "outputs": [],
   "source": [
    "# loan_status in loan_status_df should be a string\n",
    "# Keep the rows where loan_status cannot be cast to int \n",
    "loan_status_df = loan_status_df.filter(loan_status_df.loan_status.cast(\"int\").isNull())\n",
    "loan_status_df.show(truncate=False)"
   ]
  },
  {
   "cell_type": "code",
   "execution_count": null,
   "id": "5e6477dd",
   "metadata": {},
   "outputs": [],
   "source": [
    "# Unique values in business_type\n",
    "business_type_df = clean_ppp_df.select(\"business_type\").distinct()\n",
    "business_type_df.show(truncate=False)"
   ]
  },
  {
   "cell_type": "code",
   "execution_count": null,
   "id": "15e8778b",
   "metadata": {},
   "outputs": [],
   "source": [
    "# Sort in alphabetical order\n",
    "business_type_df = business_type_df.orderBy(\"business_type\")\n",
    "business_type_df.show(truncate=False)"
   ]
  },
  {
   "cell_type": "code",
   "execution_count": null,
   "id": "1b3a9ced",
   "metadata": {},
   "outputs": [],
   "source": [
    "# Number of unique business types\n",
    "print(f\"Number of unique business types: {business_type_df.count()}\")\n",
    "# Order in reverse alphabetical order\n",
    "business_type_df = business_type_df.orderBy(business_type_df.business_type.desc())\n",
    "business_type_df.show(truncate=False)"
   ]
  },
  {
   "cell_type": "code",
   "execution_count": null,
   "id": "a13d481c",
   "metadata": {},
   "outputs": [],
   "source": [
    "# Show last rows of business_type_df\n",
    "business_type_df.tail(10)"
   ]
  },
  {
   "cell_type": "code",
   "execution_count": null,
   "id": "497f7890",
   "metadata": {},
   "outputs": [],
   "source": [
    "# unique values in project_state\n",
    "project_state_df = clean_ppp_df.select(\"project_state\").distinct()\n",
    "project_state_df.show(truncate=False)"
   ]
  },
  {
   "cell_type": "code",
   "execution_count": null,
   "id": "57686f30",
   "metadata": {},
   "outputs": [],
   "source": [
    "# Order by reverse alphabetical order\n",
    "project_state_df = project_state_df.orderBy(project_state_df.project_state.desc())\n",
    "project_state_df.show(truncate=False)"
   ]
  },
  {
   "cell_type": "code",
   "execution_count": null,
   "id": "da0bf897",
   "metadata": {},
   "outputs": [],
   "source": [
    "# remove the project state that are greater than 2 characters\n",
    "from pyspark.sql.functions import length\n",
    "project_state_df = project_state_df.filter(length(project_state_df.project_state) <= 2)\n",
    "project_state_df.show(truncate=False)"
   ]
  },
  {
   "cell_type": "code",
   "execution_count": null,
   "id": "30a812e5",
   "metadata": {},
   "outputs": [],
   "source": [
    "# number of unique project states\n",
    "print(f\"Number of unique project states: {project_state_df.count()}\")"
   ]
  },
  {
   "cell_type": "code",
   "execution_count": null,
   "id": "6ff87747",
   "metadata": {},
   "outputs": [],
   "source": [
    "# business_age_description unique values\n",
    "business_age_description_df = clean_ppp_df.select(\"business_age_description\").distinct()\n",
    "business_age_description_df.show(truncate=False)"
   ]
  },
  {
   "cell_type": "code",
   "execution_count": null,
   "id": "eccee15a",
   "metadata": {},
   "outputs": [],
   "source": [
    "from pyspark.sql.functions import regexp_replace\n",
    "# Remove - from all strings in business_age_description\n",
    "business_age_description_df = business_age_description_df.withColumn(\"business_age_description\", regexp_replace(business_age_description_df.business_age_description, \"-\", \"\"))\n",
    "# keep the business_age_description that cannot be cast to int\n",
    "business_age_description_df = business_age_description_df.filter(business_age_description_df.business_age_description.cast(\"int\").isNull())\n",
    "business_age_description_df.show(truncate=False)"
   ]
  },
  {
   "cell_type": "code",
   "execution_count": null,
   "id": "b3ee1032",
   "metadata": {},
   "outputs": [],
   "source": [
    "# originating_lender_state unique values\n",
    "originating_lender_state_df = clean_ppp_df.select(\"originating_lender_state\").distinct()\n",
    "originating_lender_state_df.show(truncate=False)"
   ]
  },
  {
   "cell_type": "code",
   "execution_count": null,
   "id": "16cb83d3",
   "metadata": {},
   "outputs": [],
   "source": [
    "# remove the originating_lender_state that are greater than 2 characters\n",
    "originating_lender_state_df = originating_lender_state_df.filter(length(originating_lender_state_df.originating_lender_state) <= 2)\n",
    "originating_lender_state_df = originating_lender_state_df.orderBy(\"originating_lender_state\")\n",
    "originating_lender_state_df.show(truncate=False)"
   ]
  },
  {
   "cell_type": "code",
   "execution_count": null,
   "id": "d0eb3f29",
   "metadata": {},
   "outputs": [],
   "source": [
    "# Number of originating_lender_state\n",
    "print(f\"Number of unique originating_lender_state: {originating_lender_state_df.count()}\")"
   ]
  },
  {
   "cell_type": "markdown",
   "id": "8e6d9d2c",
   "metadata": {},
   "source": [
    "# Dropped PPP Data"
   ]
  },
  {
   "cell_type": "code",
   "execution_count": null,
   "id": "0f378ed6",
   "metadata": {},
   "outputs": [],
   "source": [
    "# Clean memory used from dataframes from raw_ppp_df and clean_ppp_df\n",
    "raw_ppp_df.unpersist()\n",
    "clean_ppp_df.unpersist()"
   ]
  },
  {
   "cell_type": "code",
   "execution_count": null,
   "id": "010b6630",
   "metadata": {
    "tags": []
   },
   "outputs": [
    {
     "name": "stderr",
     "output_type": "stream",
     "text": [
      "                                                                                \r"
     ]
    }
   ],
   "source": [
    "dropped_raw_ppp_files_path = gs_path + dropped_folder + ppp_folder + 'dropped_raw_*.csv'\n",
    "dropped_raw_ppp_df = spark.read.csv(dropped_raw_ppp_files_path, header=True, inferSchema=True)\n",
    "dropped_raw_ppp_df.cache()"
   ]
  },
  {
   "cell_type": "code",
   "execution_count": null,
   "id": "751de9b9-9fa9-46ab-9773-24e905d1712d",
   "metadata": {},
   "outputs": [],
   "source": []
  },
  {
   "cell_type": "code",
   "execution_count": 6,
   "id": "bf39cbd1",
   "metadata": {
    "tags": []
   },
   "outputs": [
    {
     "name": "stderr",
     "output_type": "stream",
     "text": [
      "25/10/08 20:59:07 WARN SparkStringUtils: Truncated the string representation of a plan since it was too large. This behavior can be adjusted by setting 'spark.sql.debug.maxToStringFields'.\n"
     ]
    },
    {
     "data": {
      "text/plain": [
       "DataFrame[loan_number: bigint, date_approved_id: int, sba_office_code: int, processing_method: string, borrower_name: string, borrower_address: string, borrower_city: string, borrower_state: string, borrower_zip: string, loan_status_date_id: int, loan_status: string, term_month: string, sba_guaranty_percentage: double, initial_approval_amount: double, current_approval_amount: double, undisbursed_amount: double, franchise_name: string, servicing_lender_location_id: string, servicing_lender_name: string, servicing_lender_address: string, servicing_lender_city: string, servicing_lender_state: string, servicing_lender_zip: string, business_age_description: string, project_county_name: string, project_state: string, jobs_reported: int, naics_code: int, race: string, ethnicity: string, business_type: string, originating_lender_location_id: string, originating_lender: string, originating_lender_city: string, originating_lender_state: string, gender: string, veteran: boolean, nonprofit: boolean, forgiveness_amount: double, forgiveness_date_id: int, facts_ppp_id: int, geo_name: string, drop_reason: string, loan_status_id: double, processing_method_id: double, business_type_id: double, term_id: double, business_age_id: double, originating_lender_id: double, borrower_id: double, servicing_lender_id: double, geofips: double, naics_title: string]"
      ]
     },
     "execution_count": 6,
     "metadata": {},
     "output_type": "execute_result"
    }
   ],
   "source": [
    "dropped_clean_ppp_files_path = gs_path + dropped_folder + ppp_folder + 'dropped_clean_*.csv'\n",
    "dropped_clean_ppp_df = spark.read.csv(dropped_clean_ppp_files_path, header=True, inferSchema=True)\n",
    "dropped_clean_ppp_df.cache()"
   ]
  },
  {
   "cell_type": "code",
   "execution_count": 11,
   "id": "49dbd88a-bada-4571-8705-88711ae36ec8",
   "metadata": {
    "tags": []
   },
   "outputs": [
    {
     "data": {
      "text/plain": [
       "1483928"
      ]
     },
     "execution_count": 11,
     "metadata": {},
     "output_type": "execute_result"
    }
   ],
   "source": [
    "# Number of rows in dropped_clean_ppp_df\n",
    "dropped_clean_ppp_df.count()"
   ]
  },
  {
   "cell_type": "code",
   "execution_count": 7,
   "id": "b56cff30-2551-4a8c-922d-160295b2605e",
   "metadata": {
    "tags": []
   },
   "outputs": [
    {
     "name": "stderr",
     "output_type": "stream",
     "text": [
      "[Stage 3:====================================>                      (5 + 3) / 8]\r"
     ]
    },
    {
     "name": "stdout",
     "output_type": "stream",
     "text": [
      "+---------------+------+\n",
      "|drop_reason    |count |\n",
      "+---------------+------+\n",
      "|geofips_null   |505984|\n",
      "|naics_code_null|977944|\n",
      "+---------------+------+\n",
      "\n"
     ]
    },
    {
     "name": "stderr",
     "output_type": "stream",
     "text": [
      "                                                                                \r"
     ]
    }
   ],
   "source": [
    "# For the \"drop_reason\" column, get the unique values and their counts\n",
    "dropped_clean_ppp_df.groupBy(\"drop_reason\").count().show(truncate=False)"
   ]
  },
  {
   "cell_type": "code",
   "execution_count": null,
   "id": "1852f6f4",
   "metadata": {},
   "outputs": [],
   "source": [
    "# Number of rows with null naics_code and null geofips\n",
    "print(f\"Number of rows with null naics_code and null geofips: \\t{dropped_clean_ppp_df.filter(dropped_clean_ppp_df['naics_title'].isNull() & dropped_clean_ppp_df['geofips'].isNull()).count()}\")\n",
    "\n",
    "# Number of rows with null naics_code and not null geofips\n",
    "print(f\"Number of rows with null naics_code and not null geofips: \\t{dropped_clean_ppp_df.filter(dropped_clean_ppp_df['naics_title'].isNull() & dropped_clean_ppp_df['geofips'].isNotNull()).count()}\")\n",
    "\n",
    "# Number of rows with not null naics_code and null geofips\n",
    "print(f\"Number of rows with not null naics_code and null geofips: \\t{dropped_clean_ppp_df.filter(dropped_clean_ppp_df['naics_title'].isNotNull() & dropped_clean_ppp_df['geofips'].isNull()).count()}\")\n",
    "\n",
    "# Number of rows with not null naics_code and not null geofips\n",
    "print(f\"Number of rows with not null naics_code and not null geofips: \\t{dropped_clean_ppp_df.filter(dropped_clean_ppp_df['naics_title'].isNotNull() & dropped_clean_ppp_df['geofips'].isNotNull()).count()}\")"
   ]
  },
  {
   "cell_type": "code",
   "execution_count": 15,
   "id": "2440596f-c52a-4353-b253-a6b0e240ed6f",
   "metadata": {
    "tags": []
   },
   "outputs": [
    {
     "data": {
      "text/plain": [
       "1483928"
      ]
     },
     "execution_count": 15,
     "metadata": {},
     "output_type": "execute_result"
    }
   ],
   "source": [
    "# Number of rows with null naics_code\n",
    "dropped_clean_ppp_df.filter(dropped_clean_ppp_df[\"naics_title\"].isNull()).count()"
   ]
  },
  {
   "cell_type": "code",
   "execution_count": null,
   "id": "eb3f7753-94e9-465d-9119-efa4860339fe",
   "metadata": {
    "tags": []
   },
   "outputs": [],
   "source": [
    "# Count of unique naics_code values\n",
    "dropped_clean_ppp_df.select(\"naics_code\").distinct().count()"
   ]
  },
  {
   "cell_type": "code",
   "execution_count": null,
   "id": "bdafcd21",
   "metadata": {},
   "outputs": [],
   "source": [
    "# Create a new datarame with the unique naics_code values from the dropped_clean_ppp_df\n",
    "unique_naics_code_df = dropped_clean_ppp_df.select(\"naics_code\").distinct()\n",
    "\n",
    "# Keep only these columns: naics_code and naics_title\n",
    "unique_naics_code_df = unique_naics_code_df.join(dropped_clean_ppp_df.select(\"naics_code\", \"naics_title\").distinct(), on=\"naics_code\", how=\"left\").distinct()\n",
    "# Add a column with a count of the number of occurrences of each naics_code in the dropped_clean_ppp_df\n",
    "unique_naics_code_df = unique_naics_code_df.join(dropped_clean_ppp_df.groupBy(\"naics_code\").count().withColumnRenamed(\"count\", \"naics_code_count\"), on=\"naics_code\", how=\"left\")\n",
    "# Save unique_naics_code_df to a csv file in the sample-data folder\n",
    "unique_naics_code_file_name = 'sample-data/unique_naics_code.csv'\n",
    "blob = bucket.blob(unique_naics_code_file_name)\n",
    "data = unique_naics_code_df.toPandas().to_csv(index=False)\n",
    "blob.upload_from_string(data, content_type='text/csv')\n",
    "\n"
   ]
  },
  {
   "cell_type": "code",
   "execution_count": 14,
   "id": "07170b3d-a84b-4aeb-812f-4a1d4213539b",
   "metadata": {
    "tags": []
   },
   "outputs": [
    {
     "name": "stdout",
     "output_type": "stream",
     "text": [
      "+----------+------+\n",
      "|naics_code|count |\n",
      "+----------+------+\n",
      "|453998    |121586|\n",
      "|999990    |75045 |\n",
      "|447110    |41638 |\n",
      "|448120    |35411 |\n",
      "|446120    |33033 |\n",
      "|454390    |32566 |\n",
      "|523930    |28792 |\n",
      "|445120    |26398 |\n",
      "|812112    |23082 |\n",
      "|448310    |19960 |\n",
      "|722511    |18935 |\n",
      "|454110    |18759 |\n",
      "|445310    |17269 |\n",
      "|811118    |17020 |\n",
      "|446110    |16514 |\n",
      "|448150    |16458 |\n",
      "|448190    |16131 |\n",
      "|441310    |15981 |\n",
      "|424330    |15787 |\n",
      "|453220    |15603 |\n",
      "+----------+------+\n",
      "only showing top 20 rows\n",
      "\n"
     ]
    }
   ],
   "source": [
    "# Unique naics_code values and their counts\n",
    "dropped_clean_ppp_df.groupBy(\"naics_code\").count().orderBy(col(\"count\").desc()).show(truncate=False)"
   ]
  },
  {
   "cell_type": "code",
   "execution_count": 9,
   "id": "f071492c-6e0c-4fe7-b448-9243938a6665",
   "metadata": {
    "tags": []
   },
   "outputs": [
    {
     "data": {
      "text/plain": [
       "2983"
      ]
     },
     "execution_count": 9,
     "metadata": {},
     "output_type": "execute_result"
    }
   ],
   "source": [
    "dropped_clean_ppp_df.select(\"geofips\").distinct().count()"
   ]
  },
  {
   "cell_type": "code",
   "execution_count": 10,
   "id": "36e985fd-6d92-4bae-bf4d-6c0c3d45a1f6",
   "metadata": {
    "tags": []
   },
   "outputs": [
    {
     "name": "stdout",
     "output_type": "stream",
     "text": [
      "+-------+------+\n",
      "|geofips|count |\n",
      "+-------+------+\n",
      "|23003.0|244   |\n",
      "|26101.0|30    |\n",
      "|21239.0|69    |\n",
      "|21087.0|28    |\n",
      "|22053.0|68    |\n",
      "|23025.0|90    |\n",
      "|24003.0|1362  |\n",
      "|NULL   |561253|\n",
      "|22069.0|96    |\n",
      "|21081.0|45    |\n",
      "|21177.0|80    |\n",
      "|26115.0|236   |\n",
      "|26099.0|2609  |\n",
      "|21137.0|44    |\n",
      "|24031.0|2798  |\n",
      "|26125.0|4892  |\n",
      "|26083.0|7     |\n",
      "|26041.0|112   |\n",
      "|21179.0|126   |\n",
      "|22051.0|2031  |\n",
      "+-------+------+\n",
      "only showing top 20 rows\n",
      "\n"
     ]
    }
   ],
   "source": [
    "dropped_clean_ppp_df.groupBy(\"geofips\").count().show(truncate=False)"
   ]
  },
  {
   "cell_type": "code",
   "execution_count": null,
   "id": "dcd060c2-7f8b-4bce-81cd-fb1f7badf68a",
   "metadata": {},
   "outputs": [],
   "source": []
  }
 ],
 "metadata": {
  "kernelspec": {
   "display_name": "Python 3",
   "language": "python",
   "name": "python3"
  },
  "language_info": {
   "codemirror_mode": {
    "name": "ipython",
    "version": 3
   },
   "file_extension": ".py",
   "mimetype": "text/x-python",
   "name": "python",
   "nbconvert_exporter": "python",
   "pygments_lexer": "ipython3",
   "version": "3.13.5"
  }
 },
 "nbformat": 4,
 "nbformat_minor": 5
}
