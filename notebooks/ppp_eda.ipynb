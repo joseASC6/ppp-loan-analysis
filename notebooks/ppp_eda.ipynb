{
 "cells": [
  {
   "cell_type": "code",
   "execution_count": null,
   "id": "5a9e5d6c",
   "metadata": {},
   "outputs": [],
   "source": [
    "spark"
   ]
  },
  {
   "cell_type": "code",
   "execution_count": null,
   "id": "ace2ed25",
   "metadata": {},
   "outputs": [],
   "source": [
    "from google.cloud import storage\n",
    "\n",
    "import pyspark\n",
    "from pyspark.sql import SparkSession"
   ]
  },
  {
   "cell_type": "code",
   "execution_count": null,
   "id": "c2c57129",
   "metadata": {},
   "outputs": [],
   "source": [
    "bucket_name = 'ppp-loan-analysis'\n",
    "gs_path  = f'gs://{bucket_name}/'\n",
    "raw_folder = 'raw-data/'\n",
    "clean_folder = 'clean-data/'\n",
    "final_folder = 'final-data/'\n",
    "dropped_folder = 'dropped-data/'\n",
    "ppp_folder = 'ppp-data/'"
   ]
  },
  {
   "cell_type": "code",
   "execution_count": null,
   "id": "87578329",
   "metadata": {},
   "outputs": [],
   "source": [
    "spark = SparkSession.builder.appName('ppp_eda').getOrCreate()"
   ]
  },
  {
   "cell_type": "code",
   "execution_count": null,
   "id": "2a96b4f6",
   "metadata": {},
   "outputs": [],
   "source": [
    "storage_client = storage.Client() \n",
    "bucket = storage_client.get_bucket(bucket_name)"
   ]
  },
  {
   "cell_type": "markdown",
   "id": "19b8dc1f",
   "metadata": {},
   "source": [
    "# Raw PPP Data"
   ]
  },
  {
   "cell_type": "code",
   "execution_count": null,
   "id": "45ceee8b",
   "metadata": {},
   "outputs": [],
   "source": [
    "raw_ppp_files_path = gs_path + raw_folder + ppp_folder + '*.csv'\n",
    "raw_ppp_df = spark.read.csv(raw_ppp_files_path, header=True, inferSchema=True)\n",
    "raw_ppp_df.cache()"
   ]
  },
  {
   "cell_type": "markdown",
   "id": "c661d665",
   "metadata": {},
   "source": [
    "# Clean PPP Data"
   ]
  },
  {
   "cell_type": "code",
   "execution_count": null,
   "id": "bbadbe27",
   "metadata": {},
   "outputs": [],
   "source": [
    "clean_ppp_files_path = gs_path + clean_folder + ppp_folder + '*.csv'"
   ]
  },
  {
   "cell_type": "markdown",
   "id": "8e6d9d2c",
   "metadata": {},
   "source": [
    "# Dropped PPP Data"
   ]
  },
  {
   "cell_type": "code",
   "execution_count": null,
   "id": "010b6630",
   "metadata": {},
   "outputs": [],
   "source": [
    "dropped_raw_ppp_files_path = gs_path + dropped_folder + ppp_folder + 'dropped_raw_*.csv'\n"
   ]
  },
  {
   "cell_type": "code",
   "execution_count": null,
   "id": "bf39cbd1",
   "metadata": {},
   "outputs": [],
   "source": [
    "droppped_clean_ppp_files_path = gs_path + dropped_folder + ppp_folder + 'dropped_clean_*.csv'"
   ]
  }
 ],
 "metadata": {
  "language_info": {
   "name": "python"
  }
 },
 "nbformat": 4,
 "nbformat_minor": 5
}
