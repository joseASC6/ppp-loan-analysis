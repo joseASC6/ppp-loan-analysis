{
 "cells": [
  {
   "cell_type": "code",
   "execution_count": 1,
   "metadata": {},
   "outputs": [],
   "source": [
    "# Import libraries\n",
    "import pandas as pd\n",
    "import numpy as np\n",
    "import matplotlib.pyplot as plt\n",
    "import seaborn as sns\n",
    "import requests\n",
    "from bs4 import BeautifulSoup\n",
    "import io\n",
    "import re\n",
    "import json\n",
    "import time\n",
    "from datetime import datetime\n",
    "import warnings\n",
    "warnings.filterwarnings('ignore')\n",
    "from math import ceil\n",
    "import zipfile\n",
    "import os\n",
    "\n",
    "\n",
    "from azure.storage.blob import BlobServiceClient, BlobClient, ContainerClient\n",
    "import google.cloud.storage"
   ]
  },
  {
   "cell_type": "code",
   "execution_count": 2,
   "metadata": {},
   "outputs": [],
   "source": [
    "# Read the JSON config file\n",
    "config_file_path = 'config.json'\n",
    "with open(config_file_path, 'r') as config_file:\n",
    "    config = json.load(config_file) \n",
    "\n",
    "# Get the connection string\n",
    "CONNECTION_STRING = config['AZURE_CONNECTION_STRING']"
   ]
  },
  {
   "cell_type": "code",
   "execution_count": 3,
   "metadata": {},
   "outputs": [],
   "source": [
    "def download_file(url):\n",
    "    response = requests.get(url)\n",
    "    return io.BytesIO(response.content)"
   ]
  },
  {
   "cell_type": "code",
   "execution_count": 4,
   "metadata": {},
   "outputs": [],
   "source": [
    "def upload_to_azure(data, blob_name, container_name):\n",
    "    # This function uploads the data to azure blob storage\n",
    "    # data: data to be uploaded\n",
    "    # blob_name: name of the blob\n",
    "    # container_name: name of the container in the blob storage\n",
    "    blob_service_client = BlobServiceClient.from_connection_string(CONNECTION_STRING)\n",
    "    container_client = blob_service_client.get_container_client(container_name)\n",
    "    blob_client = blob_service_client.get_blob_client(container=container_name, blob=blob_name)\n",
    "    blob_client.upload_blob(data.getvalue(), overwrite=True)"
   ]
  },
  {
   "cell_type": "markdown",
   "metadata": {},
   "source": [
    "Loan data: \n",
    "\n",
    "Go to https://data.sba.gov/dataset/ppp-foia \n",
    "\n",
    "13 CSV files on this specific page that need to be uploaded \n",
    "\n",
    "Example link of file: https://data.sba.gov/dataset/8aa276e2-6cab-4f86-aca4-a7dde42adf24/resource/738e639c-1fbf-4e16-beb0-a223831011e8/download/public_150k_plus_230930.csv "
   ]
  },
  {
   "cell_type": "code",
   "execution_count": 5,
   "metadata": {},
   "outputs": [],
   "source": [
    "# Function to process PPP loan data\n",
    "def process_ppp_loan_data():\n",
    "    # Azure container name\n",
    "    container_name = \"pppdata\"\n",
    "    \n",
    "    # Get the base URL\n",
    "    ppp_url = \"https://data.sba.gov/dataset/ppp-foia\"\n",
    "    response = requests.get(ppp_url)\n",
    "    soup = BeautifulSoup(response.content, 'html.parser')\n",
    "\n",
    "    # Find the link to each CSV file\n",
    "    for link in soup.find_all('a', href=True):\n",
    "        # Find the CSV files\n",
    "        if link['href'].endswith('.csv'):\n",
    "            file_url = link['href']\n",
    "            file_name = file_url.split('/')[-1]\n",
    "\n",
    "            # Download the file\n",
    "            print(f\"Processing:\\t{file_name}\")\n",
    "            file_content = download_file(file_url)\n",
    "            print(f\"{file_name} downloaded successfully\")\n",
    "\n",
    "            # Read the CSV file\n",
    "            df = pd.read_csv(file_content)\n",
    "            print(f\"CSV file {file_name} read successfully\")\n",
    "            print(f\"Number of rows in {file_name}:\\t{len(df)}\")\n",
    "            \n",
    "            # Upload to Azure\n",
    "            output = io.StringIO()\n",
    "            df.to_csv(output, index=False)\n",
    "            output.seek(0)\n",
    "            print(f\"Uploading {file_name} to Azure\")\n",
    "            upload_to_azure(output, file_name, container_name)\n",
    "            print(f\"{file_name} uploaded to Azure successfully \\n\")\n",
    "    print(\"All files processed successfully\")\n",
    "            \n"
   ]
  },
  {
   "cell_type": "markdown",
   "metadata": {},
   "source": [
    "NAICS codes: \n",
    "\n",
    "Get the most recent year's “NAICS Descriptions” XLSX file from: https://www.census.gov/naics/?48967  \n",
    "In this case, it is “2022 NAICS Descriptions” and the link to the file is: https://www.census.gov/naics/2022NAICS/2022_NAICS_Descriptions.xlsx "
   ]
  },
  {
   "cell_type": "code",
   "execution_count": 7,
   "metadata": {},
   "outputs": [],
   "source": [
    "def process_naics_data():\n",
    "    # Azure container name\n",
    "    container_name = \"naicsdata\"\n",
    "\n",
    "    # Get the NAICS Descriptions file\n",
    "    naics_url = \"https://www.census.gov/naics/2022NAICS/2022_NAICS_Descriptions.xlsx\"\n",
    "    file_name = naics_url.split('/')[-1]\n",
    "    \n",
    "    # Download the file\n",
    "    print(f\"Processing:\\t{file_name}\")\n",
    "    file_content = download_file(naics_url)\n",
    "    print(f\"{file_name} downloaded successfully\")\n",
    "    \n",
    "    # Convert the XLSX file to CSV\n",
    "    df = pd.read_excel(file_content)\n",
    "    print(f\"File {file_name} read successfully\")\n",
    "    print(f\"Converting {file_name} to CSV\")\n",
    "    csv_output = io.StringIO()\n",
    "    df.to_csv(csv_output, index=False)\n",
    "    csv_output.seek(0)\n",
    "    file_name = file_name.replace(\".xlsx\", \".csv\")\n",
    "    print(f\"{file_name} converted to CSV successfully\")\n",
    "    print(f\"Number of rows in NAICS Descriptions:\\t{len(df)}\")\n",
    "\n",
    "    # Upload to Azure\n",
    "    print(f\"Uploading {file_name} to Azure\")\n",
    "    upload_to_azure(csv_output, file_name, container_name)\n",
    "    print(f\"{file_name} uploaded to Azure successfully\\n\")\n",
    "    print(\"All files processed successfully\")\n"
   ]
  },
  {
   "cell_type": "markdown",
   "metadata": {},
   "source": [
    "GDP data: \n",
    "\n",
    "Go to this website and download a Zip file: https://apps.bea.gov/regional/zip/CAGDP1.zip \n",
    "\n",
    "From this Zip file, we only need the CSV that reads\n",
    "“CAGDP1__ALL_AREAS”"
   ]
  },
  {
   "cell_type": "code",
   "execution_count": 8,
   "metadata": {},
   "outputs": [],
   "source": [
    "# Function to process GDP data\n",
    "def process_gdp_data():\n",
    "    # Azure container name\n",
    "    container_name = \"gdpdata\"\n",
    "\n",
    "    # Get the GDP data\n",
    "    gdp_url = \"https://apps.bea.gov/regional/zip/CAGDP1.zip\"\n",
    "    zip_content = download_file(gdp_url)\n",
    "    \n",
    "    # Process the ZIP file\n",
    "    with zipfile.ZipFile(zip_content) as zip_ref:\n",
    "        for filename in zip_ref.namelist():\n",
    "            # Find the CSV file with all areas\n",
    "            if \"CAGDP1__ALL_AREAS\" in filename:\n",
    "                # Process the CSV file\n",
    "                print(f\"Processing:\\t{filename}\")\n",
    "                with zip_ref.open(filename) as f:\n",
    "                    print(f\"{filename} downloaded successfully\")\n",
    "\n",
    "                    # Read the CSV file\n",
    "                    df = pd.read_csv(f, encoding='latin-1')  # Specify the encoding as 'latin-1'\n",
    "                    print(f\"CSV file {filename} read successfully\")\n",
    "                    print(f\"Number of rows in {filename}: {len(df)}\")\n",
    "                    \n",
    "                    # Upload to Azure\n",
    "                    output = io.StringIO()\n",
    "                    df.to_csv(output, index=False)\n",
    "                    output.seek(0)\n",
    "                    print(f\"Uploading {filename} to Azure\")\n",
    "                    upload_to_azure(output, filename, container_name)\n",
    "                    print(f\"{filename} uploaded to Azure successfully\\n\")\n",
    "    print(\"All files processed successfully\")"
   ]
  },
  {
   "cell_type": "markdown",
   "metadata": {},
   "source": [
    "# Main "
   ]
  },
  {
   "cell_type": "markdown",
   "metadata": {},
   "source": []
  },
  {
   "cell_type": "code",
   "execution_count": 9,
   "metadata": {},
   "outputs": [
    {
     "name": "stdout",
     "output_type": "stream",
     "text": [
      "Processing:\t2022_NAICS_Descriptions.xlsx\n",
      "2022_NAICS_Descriptions.xlsx downloaded successfully\n",
      "File 2022_NAICS_Descriptions.xlsx read successfully\n",
      "Converting 2022_NAICS_Descriptions.xlsx to CSV\n",
      "2022_NAICS_Descriptions.csv converted to CSV successfully\n",
      "Number of rows in NAICS Descriptions:\t2125\n",
      "Uploading 2022_NAICS_Descriptions.csv to Azure\n",
      "2022_NAICS_Descriptions.csv uploaded to Azure successfully\n",
      "\n",
      "All files processed successfully\n"
     ]
    }
   ],
   "source": [
    "if __name__ == \"__main__\":\n",
    "    process_ppp_loan_data()\n",
    "    process_naics_data()\n",
    "    process_gdp_data()"
   ]
  }
 ],
 "metadata": {
  "kernelspec": {
   "display_name": "Python 3",
   "language": "python",
   "name": "python3"
  },
  "language_info": {
   "codemirror_mode": {
    "name": "ipython",
    "version": 3
   },
   "file_extension": ".py",
   "mimetype": "text/x-python",
   "name": "python",
   "nbconvert_exporter": "python",
   "pygments_lexer": "ipython3",
   "version": "3.11.3"
  }
 },
 "nbformat": 4,
 "nbformat_minor": 2
}
